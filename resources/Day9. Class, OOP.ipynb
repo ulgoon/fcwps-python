{
 "cells": [
  {
   "cell_type": "markdown",
   "metadata": {},
   "source": [
    "# Live coding\n",
    "\n",
    "https://www.hackerrank.com/challenges/class-2-find-the-torsional-angle/problem"
   ]
  },
  {
   "cell_type": "markdown",
   "metadata": {},
   "source": [
    "- Daye's answer\n",
    "\n",
    "```python\n",
    "import math\n",
    "\n",
    "class Points(object):\n",
    "    def __init__(self, x, y, z):\n",
    "        self.x = x\n",
    "        self.y = y\n",
    "        self.z = z \n",
    "\n",
    "    def __sub__(self, no):\n",
    "        x = self.x - no.x\n",
    "        y = self.y - no.y\n",
    "        z = self.z - no.z\n",
    "        return Points(x, y, z)\n",
    "\n",
    "    def dot(self, no):\n",
    "        x = self.x * no.x\n",
    "        y = self.y * no.y\n",
    "        z = self.z * no.z\n",
    "        return x + y + z\n",
    "    \n",
    "    def cross(self, no):\n",
    "        x = (self.y*no.z - self.z*no.y)\n",
    "        y = (self.x*no.z - self.z*no.x)\n",
    "        z = (self.x*no.y - self.y*no.x)\n",
    "        return Points(x, y, z)\n",
    "        \n",
    "    def absolute(self):\n",
    "        return pow((self.x ** 2 + self.y ** 2 + self.z ** 2), 0.5)\n",
    "\n",
    "if __name__ == '__main__':\n",
    "    points = list()\n",
    "    for i in range(4):\n",
    "        a = list(map(float, input().split()))\n",
    "        points.append(a)\n",
    "\n",
    "    a, b, c, d = Points(*points[0]), Points(*points[1]), Points(*points[2]), Points(*points[3])\n",
    "    x = (b - a).cross(c - b)\n",
    "    y = (c - b).cross(d - c)\n",
    "    angle = math.acos(x.dot(y) / (x.absolute() * y.absolute()))\n",
    "\n",
    "    print(\"%.2f\" % math.degrees(angle))\n",
    "```"
   ]
  },
  {
   "cell_type": "code",
   "execution_count": 1,
   "metadata": {},
   "outputs": [],
   "source": [
    "class Hero():\n",
    "    health = 100\n",
    "    \n",
    "    def __init__(self, name, weapon):\n",
    "        self.name = name\n",
    "        self.weapon = weapon\n",
    "    \n",
    "    def attack(self):\n",
    "        print('attack with {}'.format(self.weapon))"
   ]
  },
  {
   "cell_type": "code",
   "execution_count": 2,
   "metadata": {},
   "outputs": [],
   "source": [
    "IronMan = Hero('iron man', 'suit')"
   ]
  },
  {
   "cell_type": "code",
   "execution_count": 3,
   "metadata": {},
   "outputs": [
    {
     "name": "stdout",
     "output_type": "stream",
     "text": [
      "attack with suit\n"
     ]
    }
   ],
   "source": [
    "IronMan.attack()"
   ]
  },
  {
   "cell_type": "code",
   "execution_count": 4,
   "metadata": {},
   "outputs": [],
   "source": [
    "Hulk = Hero('hulk', 'Fist')"
   ]
  },
  {
   "cell_type": "code",
   "execution_count": 5,
   "metadata": {},
   "outputs": [
    {
     "name": "stdout",
     "output_type": "stream",
     "text": [
      "attack with Fist\n"
     ]
    }
   ],
   "source": [
    "Hulk.attack()"
   ]
  },
  {
   "cell_type": "code",
   "execution_count": 6,
   "metadata": {},
   "outputs": [
    {
     "data": {
      "text/plain": [
       "10000"
      ]
     },
     "execution_count": 6,
     "metadata": {},
     "output_type": "execute_result"
    }
   ],
   "source": [
    "Hulk.health = 10000\n",
    "Hulk.health"
   ]
  },
  {
   "cell_type": "code",
   "execution_count": 7,
   "metadata": {},
   "outputs": [
    {
     "data": {
      "text/plain": [
       "100"
      ]
     },
     "execution_count": 7,
     "metadata": {},
     "output_type": "execute_result"
    }
   ],
   "source": [
    "IronMan.health"
   ]
  },
  {
   "cell_type": "code",
   "execution_count": 11,
   "metadata": {},
   "outputs": [],
   "source": [
    "a = [1,2,3]\n",
    "a.insert(1, 20)"
   ]
  },
  {
   "cell_type": "code",
   "execution_count": 12,
   "metadata": {},
   "outputs": [
    {
     "data": {
      "text/plain": [
       "[1, 20, 2, 3]"
      ]
     },
     "execution_count": 12,
     "metadata": {},
     "output_type": "execute_result"
    }
   ],
   "source": [
    "a"
   ]
  },
  {
   "cell_type": "code",
   "execution_count": 13,
   "metadata": {},
   "outputs": [
    {
     "data": {
      "text/plain": [
       "['strawberry']"
      ]
     },
     "execution_count": 13,
     "metadata": {},
     "output_type": "execute_result"
    }
   ],
   "source": [
    "fruits = ['strawberry']\n",
    "a = fruits\n",
    "a"
   ]
  },
  {
   "cell_type": "code",
   "execution_count": 14,
   "metadata": {},
   "outputs": [
    {
     "data": {
      "text/plain": [
       "['strawberry', 'banana']"
      ]
     },
     "execution_count": 14,
     "metadata": {},
     "output_type": "execute_result"
    }
   ],
   "source": [
    "b = fruits\n",
    "b.append('banana')\n",
    "b"
   ]
  },
  {
   "cell_type": "code",
   "execution_count": 15,
   "metadata": {},
   "outputs": [
    {
     "data": {
      "text/plain": [
       "['strawberry', 'banana']"
      ]
     },
     "execution_count": 15,
     "metadata": {},
     "output_type": "execute_result"
    }
   ],
   "source": [
    "a"
   ]
  },
  {
   "cell_type": "code",
   "execution_count": 16,
   "metadata": {},
   "outputs": [
    {
     "data": {
      "text/plain": [
       "['strawberry']"
      ]
     },
     "execution_count": 16,
     "metadata": {},
     "output_type": "execute_result"
    }
   ],
   "source": [
    "fruits = ['strawberry']\n",
    "a = list(fruits)\n",
    "a"
   ]
  },
  {
   "cell_type": "code",
   "execution_count": 17,
   "metadata": {},
   "outputs": [
    {
     "data": {
      "text/plain": [
       "['strawberry', 'banana']"
      ]
     },
     "execution_count": 17,
     "metadata": {},
     "output_type": "execute_result"
    }
   ],
   "source": [
    "b = fruits\n",
    "b.append('banana')\n",
    "b"
   ]
  },
  {
   "cell_type": "code",
   "execution_count": 18,
   "metadata": {
    "scrolled": true
   },
   "outputs": [
    {
     "data": {
      "text/plain": [
       "['strawberry']"
      ]
     },
     "execution_count": 18,
     "metadata": {},
     "output_type": "execute_result"
    }
   ],
   "source": [
    "a"
   ]
  },
  {
   "cell_type": "code",
   "execution_count": 19,
   "metadata": {},
   "outputs": [],
   "source": [
    "class Hero():\n",
    "    health = 100\n",
    "    inventory = []\n",
    "    \n",
    "    def __init__(self, name, weapon):\n",
    "        self.name = name\n",
    "        self.weapon = weapon\n",
    "    \n",
    "    def attack(self):\n",
    "        print('attack with {}'.format(self.weapon))\n",
    "    def save_item(self, item):\n",
    "        self.inventory.append(item)"
   ]
  },
  {
   "cell_type": "code",
   "execution_count": 20,
   "metadata": {},
   "outputs": [],
   "source": [
    "IronMan = Hero('iron man', 'suit')\n",
    "Hulk = Hero('hulk', 'fist')"
   ]
  },
  {
   "cell_type": "code",
   "execution_count": 21,
   "metadata": {},
   "outputs": [],
   "source": [
    "IronMan.save_item('$10,000')"
   ]
  },
  {
   "cell_type": "code",
   "execution_count": 22,
   "metadata": {},
   "outputs": [
    {
     "data": {
      "text/plain": [
       "['$10,000']"
      ]
     },
     "execution_count": 22,
     "metadata": {},
     "output_type": "execute_result"
    }
   ],
   "source": [
    "IronMan.inventory"
   ]
  },
  {
   "cell_type": "code",
   "execution_count": 23,
   "metadata": {},
   "outputs": [],
   "source": [
    "Hulk.save_item('book')"
   ]
  },
  {
   "cell_type": "code",
   "execution_count": 24,
   "metadata": {},
   "outputs": [
    {
     "data": {
      "text/plain": [
       "['$10,000', 'book']"
      ]
     },
     "execution_count": 24,
     "metadata": {},
     "output_type": "execute_result"
    }
   ],
   "source": [
    "Hulk.inventory"
   ]
  },
  {
   "cell_type": "code",
   "execution_count": 25,
   "metadata": {},
   "outputs": [],
   "source": [
    "class Hero():\n",
    "    health = 100\n",
    "    \n",
    "    def __init__(self, name, weapon):\n",
    "        self.name = name\n",
    "        self.weapon = weapon\n",
    "        self.inventory = []\n",
    "    \n",
    "    def attack(self):\n",
    "        print('attack with {}'.format(self.weapon))\n",
    "    def save_item(self, item):\n",
    "        self.inventory.append(item)"
   ]
  },
  {
   "cell_type": "code",
   "execution_count": 26,
   "metadata": {},
   "outputs": [],
   "source": [
    "IronMan = Hero('iron man', 'suit')"
   ]
  },
  {
   "cell_type": "code",
   "execution_count": 27,
   "metadata": {},
   "outputs": [],
   "source": [
    "Hulk = Hero('hulk', 'fist')"
   ]
  },
  {
   "cell_type": "code",
   "execution_count": 28,
   "metadata": {},
   "outputs": [],
   "source": [
    "IronMan.save_item('$10,000')"
   ]
  },
  {
   "cell_type": "code",
   "execution_count": 29,
   "metadata": {},
   "outputs": [],
   "source": [
    "Hulk.save_item('book')"
   ]
  },
  {
   "cell_type": "code",
   "execution_count": 30,
   "metadata": {},
   "outputs": [
    {
     "data": {
      "text/plain": [
       "['$10,000']"
      ]
     },
     "execution_count": 30,
     "metadata": {},
     "output_type": "execute_result"
    }
   ],
   "source": [
    "IronMan.inventory"
   ]
  },
  {
   "cell_type": "code",
   "execution_count": 31,
   "metadata": {},
   "outputs": [
    {
     "data": {
      "text/plain": [
       "['book']"
      ]
     },
     "execution_count": 31,
     "metadata": {},
     "output_type": "execute_result"
    }
   ],
   "source": [
    "Hulk.inventory"
   ]
  },
  {
   "cell_type": "code",
   "execution_count": 38,
   "metadata": {},
   "outputs": [],
   "source": [
    "class Hero():\n",
    "    health = 100\n",
    "    \n",
    "    def __init__(self, name, weapon):\n",
    "        self.name = name\n",
    "        self.weapon = weapon\n",
    "        self.inventory = []\n",
    "    \n",
    "    def __del__(self):\n",
    "        print('I love you 3000.')\n",
    "    \n",
    "    def attack(self):\n",
    "        print('attack with {}'.format(self.weapon))\n",
    "    def save_item(self, item):\n",
    "        self.inventory.append(item)"
   ]
  },
  {
   "cell_type": "code",
   "execution_count": 34,
   "metadata": {},
   "outputs": [],
   "source": [
    "IronMan = Hero('iron man','suit')"
   ]
  },
  {
   "cell_type": "code",
   "execution_count": 35,
   "metadata": {},
   "outputs": [],
   "source": [
    "del IronMan"
   ]
  },
  {
   "cell_type": "code",
   "execution_count": 39,
   "metadata": {},
   "outputs": [],
   "source": [
    "IronMan = Hero('iron man','suit')"
   ]
  },
  {
   "cell_type": "code",
   "execution_count": 40,
   "metadata": {},
   "outputs": [
    {
     "name": "stdout",
     "output_type": "stream",
     "text": [
      "I love you 3000.\n"
     ]
    }
   ],
   "source": [
    "IronMan.__del__()"
   ]
  },
  {
   "cell_type": "code",
   "execution_count": 42,
   "metadata": {},
   "outputs": [],
   "source": [
    "class Hero():\n",
    "    health = 100\n",
    "    \n",
    "    def __init__(self, name, weapon):\n",
    "        self.name = name\n",
    "        self.weapon = weapon\n",
    "        self.inventory = []\n",
    "    \n",
    "    def __del__(self):\n",
    "        print('I love you 3000.')\n",
    "    \n",
    "    def attack(self):\n",
    "        print('attack with {}'.format(self.weapon))\n",
    "    def save_item(self, item):\n",
    "        self.inventory.append(item)\n",
    "    def save_item_multiple(self, item, num):\n",
    "        for _ in range(num):\n",
    "            self.save_item(item)"
   ]
  },
  {
   "cell_type": "code",
   "execution_count": 43,
   "metadata": {},
   "outputs": [],
   "source": [
    "IronMan = Hero('iron man', 'suit')"
   ]
  },
  {
   "cell_type": "code",
   "execution_count": 44,
   "metadata": {},
   "outputs": [
    {
     "data": {
      "text/plain": [
       "[]"
      ]
     },
     "execution_count": 44,
     "metadata": {},
     "output_type": "execute_result"
    }
   ],
   "source": [
    "IronMan.inventory"
   ]
  },
  {
   "cell_type": "code",
   "execution_count": 45,
   "metadata": {},
   "outputs": [],
   "source": [
    "IronMan.save_item_multiple('$10,000', 10)"
   ]
  },
  {
   "cell_type": "code",
   "execution_count": 46,
   "metadata": {},
   "outputs": [
    {
     "data": {
      "text/plain": [
       "['$10,000',\n",
       " '$10,000',\n",
       " '$10,000',\n",
       " '$10,000',\n",
       " '$10,000',\n",
       " '$10,000',\n",
       " '$10,000',\n",
       " '$10,000',\n",
       " '$10,000',\n",
       " '$10,000']"
      ]
     },
     "execution_count": 46,
     "metadata": {},
     "output_type": "execute_result"
    }
   ],
   "source": [
    "IronMan.inventory"
   ]
  },
  {
   "cell_type": "code",
   "execution_count": 52,
   "metadata": {},
   "outputs": [],
   "source": [
    "class Hero():\n",
    "    health = 100\n",
    "    \n",
    "    def __init__(self, name, weapon):\n",
    "        self.name = name\n",
    "        self.weapon = weapon\n",
    "        self.inventory = []\n",
    "    \n",
    "    #def __del__(self):\n",
    "    #    print('I love you 3000.')\n",
    "    \n",
    "    def attack(self):\n",
    "        print('attack with {}'.format(self.weapon))\n",
    "    def save_item(self, item):\n",
    "        self.inventory.append(item)\n",
    "    def save_item_multiple(self, item, num):\n",
    "        for _ in range(num):\n",
    "            self.save_item(item)\n",
    "    def save_items(self, *items):\n",
    "        for item in items:\n",
    "            self.save_item(item)\n",
    "            print('{} has saved to inventory'.format(item))"
   ]
  },
  {
   "cell_type": "code",
   "execution_count": 54,
   "metadata": {},
   "outputs": [],
   "source": [
    "IronMan = Hero('iron man', 'suit')"
   ]
  },
  {
   "cell_type": "code",
   "execution_count": 55,
   "metadata": {},
   "outputs": [
    {
     "data": {
      "text/plain": [
       "[]"
      ]
     },
     "execution_count": 55,
     "metadata": {},
     "output_type": "execute_result"
    }
   ],
   "source": [
    "IronMan.inventory"
   ]
  },
  {
   "cell_type": "code",
   "execution_count": 56,
   "metadata": {},
   "outputs": [
    {
     "name": "stdout",
     "output_type": "stream",
     "text": [
      "$10,000 has saved to inventory\n",
      "2btc has saved to inventory\n",
      "3eth has saved to inventory\n",
      "10000 xrp has saved to inventory\n"
     ]
    }
   ],
   "source": [
    "IronMan.save_items('$10,000', '2btc', '3eth', '10000 xrp')"
   ]
  },
  {
   "cell_type": "code",
   "execution_count": 57,
   "metadata": {},
   "outputs": [
    {
     "data": {
      "text/plain": [
       "['$10,000', '2btc', '3eth', '10000 xrp']"
      ]
     },
     "execution_count": 57,
     "metadata": {},
     "output_type": "execute_result"
    }
   ],
   "source": [
    "IronMan.inventory"
   ]
  },
  {
   "cell_type": "code",
   "execution_count": 58,
   "metadata": {},
   "outputs": [
    {
     "data": {
      "text/plain": [
       "['__class__',\n",
       " '__delattr__',\n",
       " '__dict__',\n",
       " '__dir__',\n",
       " '__doc__',\n",
       " '__eq__',\n",
       " '__format__',\n",
       " '__ge__',\n",
       " '__getattribute__',\n",
       " '__gt__',\n",
       " '__hash__',\n",
       " '__init__',\n",
       " '__init_subclass__',\n",
       " '__le__',\n",
       " '__lt__',\n",
       " '__module__',\n",
       " '__ne__',\n",
       " '__new__',\n",
       " '__reduce__',\n",
       " '__reduce_ex__',\n",
       " '__repr__',\n",
       " '__setattr__',\n",
       " '__sizeof__',\n",
       " '__str__',\n",
       " '__subclasshook__',\n",
       " '__weakref__',\n",
       " 'attack',\n",
       " 'health',\n",
       " 'inventory',\n",
       " 'name',\n",
       " 'save_item',\n",
       " 'save_item_multiple',\n",
       " 'save_items',\n",
       " 'weapon']"
      ]
     },
     "execution_count": 58,
     "metadata": {},
     "output_type": "execute_result"
    }
   ],
   "source": [
    "dir(IronMan)"
   ]
  },
  {
   "cell_type": "code",
   "execution_count": 66,
   "metadata": {},
   "outputs": [],
   "source": [
    "class SmartPhone:\n",
    "    def __init__(self, ap, cam):\n",
    "        # Public: Open to every class\n",
    "        self.ap = ap\n",
    "        self.cam = cam\n",
    "    \n",
    "    def _jail_break(self):\n",
    "        # Protected: Open only to this or inherited from this\n",
    "        self.__custom_firmware()\n",
    "        return 'jail break complete'\n",
    "    \n",
    "    def __custom_firmware(self):\n",
    "        # Private: Only this class\n",
    "        return \"You can't do this\""
   ]
  },
  {
   "cell_type": "code",
   "execution_count": 67,
   "metadata": {},
   "outputs": [],
   "source": [
    "Galaxy = SmartPhone('Exynos', '1.3M')"
   ]
  },
  {
   "cell_type": "code",
   "execution_count": 68,
   "metadata": {},
   "outputs": [
    {
     "data": {
      "text/plain": [
       "'jail break complete'"
      ]
     },
     "execution_count": 68,
     "metadata": {},
     "output_type": "execute_result"
    }
   ],
   "source": [
    "Galaxy._jail_break()"
   ]
  },
  {
   "cell_type": "code",
   "execution_count": 69,
   "metadata": {},
   "outputs": [
    {
     "ename": "AttributeError",
     "evalue": "'SmartPhone' object has no attribute '__custom_firmware'",
     "output_type": "error",
     "traceback": [
      "\u001b[0;31m---------------------------------------------------------------------------\u001b[0m",
      "\u001b[0;31mAttributeError\u001b[0m                            Traceback (most recent call last)",
      "\u001b[0;32m<ipython-input-69-deed450cd6ea>\u001b[0m in \u001b[0;36m<module>\u001b[0;34m\u001b[0m\n\u001b[0;32m----> 1\u001b[0;31m \u001b[0mGalaxy\u001b[0m\u001b[0;34m.\u001b[0m\u001b[0m__custom_firmware\u001b[0m\u001b[0;34m(\u001b[0m\u001b[0;34m)\u001b[0m\u001b[0;34m\u001b[0m\u001b[0;34m\u001b[0m\u001b[0m\n\u001b[0m",
      "\u001b[0;31mAttributeError\u001b[0m: 'SmartPhone' object has no attribute '__custom_firmware'"
     ]
    }
   ],
   "source": [
    "Galaxy.__custom_firmware()"
   ]
  },
  {
   "cell_type": "markdown",
   "metadata": {},
   "source": [
    "## Practice(1)\n",
    "\n",
    "다음 조건에 맞는 class Elevator를 설계하세요.\n",
    "\n",
    "```text\n",
    "1. 목적(use_for): 화물용, 사람용\n",
    "2. 고유번호(elevator_id): 임의 배정\n",
    "3. 공간(space): []\n",
    "4. 상승(go_up()): 출발층, 목적층\n",
    "5. 하강(go_down()): 출발층, 목적층\n",
    "6. 한계하중(max_cap)\n",
    "7. 현재하중(cur_cap)\n",
    "8. 현재상태(status): 점검중, 만원\n",
    "```"
   ]
  },
  {
   "cell_type": "code",
   "execution_count": 78,
   "metadata": {},
   "outputs": [],
   "source": [
    "class Fried:\n",
    "    pass\n",
    "\n",
    "class Seasoned(Fried):\n",
    "    pass"
   ]
  },
  {
   "cell_type": "code",
   "execution_count": 82,
   "metadata": {},
   "outputs": [],
   "source": [
    "class Fried:\n",
    "    \n",
    "    def __init__(self, mixture, chicken):\n",
    "        self.mixture = mixture\n",
    "        self.chicken = chicken\n",
    "    \n",
    "    def mix_together(self):\n",
    "        pass\n",
    "    def place_into_fryer(self):\n",
    "        print('Chicken is now fried(15min).')\n",
    "\n",
    "class Seasoned(Fried):\n",
    "    \n",
    "    def __init__(self, mixture, chicken, sauce='red chili'):\n",
    "        Fried.__init__(self, mixture, chicken)\n",
    "        self.sauce = sauce\n",
    "    \n",
    "    def place_into_fryer(self):\n",
    "        print('Chicken is now fried(13min).')\n",
    "    def mix_with_sauce(self):\n",
    "        print('Seasoned Chicken is ready to serve.')"
   ]
  },
  {
   "cell_type": "code",
   "execution_count": 84,
   "metadata": {},
   "outputs": [],
   "source": [
    "class SmartPhone:\n",
    "    \n",
    "    def __init__(self, ap, cam):\n",
    "        self.ap = ap\n",
    "        self.cam = cam\n",
    "        \n",
    "    def open_ai(self):\n",
    "        print(\"I don't have feature like that.\")\n",
    "    def __str__(self):\n",
    "        print('I am {}.'.format(self.__class__.__name__))"
   ]
  },
  {
   "cell_type": "code",
   "execution_count": 85,
   "metadata": {},
   "outputs": [],
   "source": [
    "SomePhone = SmartPhone('snap','1.3M')"
   ]
  },
  {
   "cell_type": "code",
   "execution_count": 86,
   "metadata": {},
   "outputs": [
    {
     "name": "stdout",
     "output_type": "stream",
     "text": [
      "I don't have feature like that.\n"
     ]
    }
   ],
   "source": [
    "SomePhone.open_ai()"
   ]
  },
  {
   "cell_type": "code",
   "execution_count": 88,
   "metadata": {},
   "outputs": [
    {
     "name": "stdout",
     "output_type": "stream",
     "text": [
      "I am SmartPhone.\n"
     ]
    }
   ],
   "source": [
    "SomePhone.__str__()"
   ]
  },
  {
   "cell_type": "code",
   "execution_count": 89,
   "metadata": {},
   "outputs": [],
   "source": [
    "class IPhone(SmartPhone):\n",
    "    \n",
    "    def __init__(self, ap, cam, fingerprint):\n",
    "        SmartPhone.__init__(self, ap, cam)\n",
    "        self.fingerprint = fingerprint\n",
    "        \n",
    "    def open_ai(self):\n",
    "        print('Hey, siri!')\n",
    "        \n",
    "    def __str__(self):\n",
    "        return super(IPhone, self).__str__()"
   ]
  },
  {
   "cell_type": "code",
   "execution_count": 90,
   "metadata": {},
   "outputs": [],
   "source": [
    "Iphone = IPhone('A Series', '3M', 'touch id')"
   ]
  },
  {
   "cell_type": "code",
   "execution_count": 91,
   "metadata": {},
   "outputs": [
    {
     "name": "stdout",
     "output_type": "stream",
     "text": [
      "Hey, siri!\n"
     ]
    }
   ],
   "source": [
    "Iphone.open_ai()"
   ]
  },
  {
   "cell_type": "code",
   "execution_count": 92,
   "metadata": {},
   "outputs": [
    {
     "name": "stdout",
     "output_type": "stream",
     "text": [
      "I am IPhone.\n"
     ]
    }
   ],
   "source": [
    "Iphone.__str__()"
   ]
  },
  {
   "cell_type": "code",
   "execution_count": 93,
   "metadata": {},
   "outputs": [],
   "source": [
    "class Galaxy(SmartPhone):\n",
    "    \n",
    "    def __init__(self, ap, cam, pay_module):\n",
    "        SmartPhone.__init__(self, ap, cam)\n",
    "        self.pay_module = pay_module\n",
    "        \n",
    "    def open_ai(self):\n",
    "        print('Hi, bixby!')\n",
    "        \n",
    "    def __str__(self):\n",
    "        return super(Galaxy, self).__str__()"
   ]
  },
  {
   "cell_type": "code",
   "execution_count": 94,
   "metadata": {},
   "outputs": [],
   "source": [
    "SamPhone = Galaxy('Exynos', '13M', 'Sam-ung pay')"
   ]
  },
  {
   "cell_type": "code",
   "execution_count": 95,
   "metadata": {},
   "outputs": [
    {
     "name": "stdout",
     "output_type": "stream",
     "text": [
      "Hi, bixby!\n"
     ]
    }
   ],
   "source": [
    "SamPhone.open_ai()"
   ]
  },
  {
   "cell_type": "code",
   "execution_count": 96,
   "metadata": {},
   "outputs": [
    {
     "name": "stdout",
     "output_type": "stream",
     "text": [
      "I am Galaxy.\n"
     ]
    }
   ],
   "source": [
    "SamPhone.__str__()"
   ]
  },
  {
   "cell_type": "code",
   "execution_count": 97,
   "metadata": {},
   "outputs": [],
   "source": [
    "#Composition\n",
    "class AP:\n",
    "    pass\n",
    "\n",
    "class Cam:\n",
    "    pass\n",
    "\n",
    "class SmartPhone:\n",
    "    \n",
    "    def __init__(self):\n",
    "        self.ap = AP() # ap.run() ap.overclock() ap.kill_task()\n",
    "        self.cam = Cam()"
   ]
  },
  {
   "cell_type": "code",
   "execution_count": 99,
   "metadata": {},
   "outputs": [],
   "source": [
    "class Hammer:\n",
    "    \n",
    "    def __init__(self, name):\n",
    "        self.name = name\n",
    "    \n",
    "    def fly(self):\n",
    "        print('Now {} can fly..'.format(self.name))\n",
    "        \n",
    "class Thor:\n",
    "    \n",
    "    def __init__(self):\n",
    "        self.weapon = None\n",
    "        \n",
    "    def recall_hammer(self, weapon):\n",
    "        self.weapon = weapon\n",
    "    def throw_hammer(self):\n",
    "        weapon = self.weapon\n",
    "        self.weapon = None\n",
    "        return weapon\n",
    "    def fly(self):\n",
    "        if self.weapon:\n",
    "            self.weapon.fly()\n",
    "        else:\n",
    "            print(\"You can't fly..\")"
   ]
  },
  {
   "cell_type": "code",
   "execution_count": 100,
   "metadata": {},
   "outputs": [],
   "source": [
    "Thor = Thor()"
   ]
  },
  {
   "cell_type": "code",
   "execution_count": 101,
   "metadata": {},
   "outputs": [],
   "source": [
    "Molnir = Hammer('molnir')"
   ]
  },
  {
   "cell_type": "code",
   "execution_count": 102,
   "metadata": {},
   "outputs": [
    {
     "name": "stdout",
     "output_type": "stream",
     "text": [
      "You can't fly..\n"
     ]
    }
   ],
   "source": [
    "Thor.fly()"
   ]
  },
  {
   "cell_type": "code",
   "execution_count": 103,
   "metadata": {},
   "outputs": [],
   "source": [
    "Thor.recall_hammer(Molnir)"
   ]
  },
  {
   "cell_type": "code",
   "execution_count": 104,
   "metadata": {},
   "outputs": [
    {
     "name": "stdout",
     "output_type": "stream",
     "text": [
      "Now molnir can fly..\n"
     ]
    }
   ],
   "source": [
    "Thor.fly()"
   ]
  },
  {
   "cell_type": "code",
   "execution_count": 105,
   "metadata": {
    "scrolled": true
   },
   "outputs": [
    {
     "data": {
      "text/plain": [
       "<__main__.Hammer at 0x114edd160>"
      ]
     },
     "execution_count": 105,
     "metadata": {},
     "output_type": "execute_result"
    }
   ],
   "source": [
    "Thor.throw_hammer()"
   ]
  },
  {
   "cell_type": "code",
   "execution_count": 106,
   "metadata": {},
   "outputs": [
    {
     "name": "stdout",
     "output_type": "stream",
     "text": [
      "You can't fly..\n"
     ]
    }
   ],
   "source": [
    "Thor.fly()"
   ]
  },
  {
   "cell_type": "code",
   "execution_count": null,
   "metadata": {},
   "outputs": [],
   "source": []
  },
  {
   "cell_type": "code",
   "execution_count": 108,
   "metadata": {},
   "outputs": [],
   "source": [
    "class Wallet:\n",
    "    \n",
    "    def __init__(self, account):\n",
    "        self.account = account\n",
    "    \n",
    "    balance = 0\n",
    "    name = 'Your wallet'\n",
    "    \n",
    "    @classmethod\n",
    "    def set_default(cls, amount):\n",
    "        while amount<1:\n",
    "            print(\"You should deposit more than 1. Try again\")\n",
    "            amount = int(input('Enter value want to deposit: '))\n",
    "        cls.balance = amount\n",
    "        print('Set default value of balance to {}'.format(cls.balance))"
   ]
  },
  {
   "cell_type": "code",
   "execution_count": 110,
   "metadata": {},
   "outputs": [],
   "source": [
    "w = Wallet(0)"
   ]
  },
  {
   "cell_type": "code",
   "execution_count": 111,
   "metadata": {},
   "outputs": [
    {
     "name": "stdout",
     "output_type": "stream",
     "text": [
      "Set default value of balance to 10\n"
     ]
    }
   ],
   "source": [
    "Wallet.set_default(10)"
   ]
  },
  {
   "cell_type": "code",
   "execution_count": 112,
   "metadata": {},
   "outputs": [
    {
     "data": {
      "text/plain": [
       "10"
      ]
     },
     "execution_count": 112,
     "metadata": {},
     "output_type": "execute_result"
    }
   ],
   "source": [
    "Wallet.balance"
   ]
  },
  {
   "cell_type": "code",
   "execution_count": 113,
   "metadata": {},
   "outputs": [],
   "source": [
    "class Wallet:\n",
    "    \n",
    "    def __init__(self, account):\n",
    "        self.account = account\n",
    "    \n",
    "    balance = 0\n",
    "    name = 'Your wallet'\n",
    "    \n",
    "    @classmethod\n",
    "    def set_default(cls, amount):\n",
    "        while amount<1:\n",
    "            print(\"You should deposit more than 1. Try again\")\n",
    "            amount = int(input('Enter value want to deposit: '))\n",
    "        cls.balance = amount\n",
    "        print('Set default value of balance to {}'.format(cls.balance))\n",
    "    \n",
    "    def deposit_account(self, amount):\n",
    "        self.account += amount\n",
    "        print('Your total account balance is {}'.format(self.account))\n",
    "    \n",
    "    def withdraw_account(self, amount):\n",
    "        self.account -= amount\n",
    "        print('Your total account balance is {}'.format(self.account))\n",
    "    \n",
    "    @staticmethod\n",
    "    def print_wallet_static():\n",
    "        print(Wallet.name)\n",
    "    \n",
    "    @classmethod\n",
    "    def print_class_name(cls):\n",
    "        print(cls.name)\n",
    "\n",
    "class MyWallet(Wallet):\n",
    "    name = 'This is mine'"
   ]
  },
  {
   "cell_type": "code",
   "execution_count": 114,
   "metadata": {},
   "outputs": [],
   "source": [
    "w = Wallet(100)"
   ]
  },
  {
   "cell_type": "code",
   "execution_count": 129,
   "metadata": {},
   "outputs": [
    {
     "name": "stdout",
     "output_type": "stream",
     "text": [
      "Your total account balance is 32088100\n"
     ]
    }
   ],
   "source": [
    "w.deposit_account(8000000)"
   ]
  },
  {
   "cell_type": "code",
   "execution_count": 131,
   "metadata": {},
   "outputs": [],
   "source": [
    "m = MyWallet(100)"
   ]
  },
  {
   "cell_type": "code",
   "execution_count": 132,
   "metadata": {},
   "outputs": [
    {
     "name": "stdout",
     "output_type": "stream",
     "text": [
      "Your wallet\n"
     ]
    }
   ],
   "source": [
    "m.print_wallet_static()"
   ]
  },
  {
   "cell_type": "code",
   "execution_count": 133,
   "metadata": {},
   "outputs": [
    {
     "name": "stdout",
     "output_type": "stream",
     "text": [
      "This is mine\n"
     ]
    }
   ],
   "source": [
    "m.print_class_name()"
   ]
  },
  {
   "cell_type": "code",
   "execution_count": 136,
   "metadata": {},
   "outputs": [],
   "source": [
    "def print_hello():\n",
    "    print('hello')\n",
    "\n",
    "def repeat_something(num):\n",
    "    for _ in range(num):\n",
    "        print_hello()"
   ]
  },
  {
   "cell_type": "code",
   "execution_count": 137,
   "metadata": {},
   "outputs": [
    {
     "name": "stdout",
     "output_type": "stream",
     "text": [
      "hello\n",
      "hello\n",
      "hello\n",
      "hello\n",
      "hello\n",
      "hello\n",
      "hello\n",
      "hello\n",
      "hello\n",
      "hello\n"
     ]
    }
   ],
   "source": [
    "repeat_something(10)"
   ]
  },
  {
   "cell_type": "code",
   "execution_count": 153,
   "metadata": {},
   "outputs": [],
   "source": [
    "from abc import *\n",
    "\n",
    "\n",
    "class SmartPhone(metaclass = ABCMeta):\n",
    "    @abstractmethod\n",
    "    def get_ap():\n",
    "        print('AP is Application Proccessor.')\n",
    "        \n",
    "class Galaxy(SmartPhone):\n",
    "    def get_ap():\n",
    "        print('Exynos')\n",
    "        \n",
    "class IPhone(SmartPhone):\n",
    "    def get_ap():\n",
    "        print('A Series')"
   ]
  },
  {
   "cell_type": "code",
   "execution_count": 154,
   "metadata": {},
   "outputs": [
    {
     "ename": "TypeError",
     "evalue": "Can't instantiate abstract class SmartPhone with abstract method get_ap",
     "output_type": "error",
     "traceback": [
      "\u001b[0;31m---------------------------------------------------------------------------\u001b[0m",
      "\u001b[0;31mTypeError\u001b[0m                                 Traceback (most recent call last)",
      "\u001b[0;32m<ipython-input-154-9794562170c5>\u001b[0m in \u001b[0;36m<module>\u001b[0;34m\u001b[0m\n\u001b[0;32m----> 1\u001b[0;31m \u001b[0mSP\u001b[0m \u001b[0;34m=\u001b[0m \u001b[0mSmartPhone\u001b[0m\u001b[0;34m(\u001b[0m\u001b[0;34m)\u001b[0m\u001b[0;34m\u001b[0m\u001b[0;34m\u001b[0m\u001b[0m\n\u001b[0m",
      "\u001b[0;31mTypeError\u001b[0m: Can't instantiate abstract class SmartPhone with abstract method get_ap"
     ]
    }
   ],
   "source": [
    "SP = SmartPhone()"
   ]
  },
  {
   "cell_type": "code",
   "execution_count": 155,
   "metadata": {},
   "outputs": [],
   "source": [
    "SS = Galaxy()"
   ]
  },
  {
   "cell_type": "code",
   "execution_count": 156,
   "metadata": {},
   "outputs": [
    {
     "name": "stdout",
     "output_type": "stream",
     "text": [
      "Exynos\n"
     ]
    }
   ],
   "source": [
    "Galaxy.get_ap()"
   ]
  },
  {
   "cell_type": "code",
   "execution_count": 157,
   "metadata": {},
   "outputs": [],
   "source": [
    "AP = IPhone()"
   ]
  },
  {
   "cell_type": "code",
   "execution_count": 158,
   "metadata": {},
   "outputs": [
    {
     "ename": "TypeError",
     "evalue": "get_ap() takes 0 positional arguments but 1 was given",
     "output_type": "error",
     "traceback": [
      "\u001b[0;31m---------------------------------------------------------------------------\u001b[0m",
      "\u001b[0;31mTypeError\u001b[0m                                 Traceback (most recent call last)",
      "\u001b[0;32m<ipython-input-158-5c5af72cc519>\u001b[0m in \u001b[0;36m<module>\u001b[0;34m\u001b[0m\n\u001b[0;32m----> 1\u001b[0;31m \u001b[0mAP\u001b[0m\u001b[0;34m.\u001b[0m\u001b[0mget_ap\u001b[0m\u001b[0;34m(\u001b[0m\u001b[0;34m)\u001b[0m\u001b[0;34m\u001b[0m\u001b[0;34m\u001b[0m\u001b[0m\n\u001b[0m",
      "\u001b[0;31mTypeError\u001b[0m: get_ap() takes 0 positional arguments but 1 was given"
     ]
    }
   ],
   "source": [
    "AP.get_ap()"
   ]
  },
  {
   "cell_type": "markdown",
   "metadata": {},
   "source": [
    "## 수우욱제에에\n",
    "\n",
    "1. Hackerrank 문제 풀기\n",
    "\n",
    "https://www.hackerrank.com/challenges/30-inheritance/problem\n",
    "\n",
    "https://www.hackerrank.com/challenges/30-abstract-classes/problem\n",
    "\n",
    "https://www.hackerrank.com/challenges/class-1-dealing-with-complex-numbers/problem\n",
    "\n",
    "2. 블랙잭 딜러와 유저 클래스 설계, 구현하기\n",
    "\n",
    "3. Procedural Programming으로 블랙잭 게임 만들기\n",
    "\n",
    "(절차와 규칙은 추후 업로드)"
   ]
  }
 ],
 "metadata": {
  "kernelspec": {
   "display_name": "Python 3",
   "language": "python",
   "name": "python3"
  },
  "language_info": {
   "codemirror_mode": {
    "name": "ipython",
    "version": 3
   },
   "file_extension": ".py",
   "mimetype": "text/x-python",
   "name": "python",
   "nbconvert_exporter": "python",
   "pygments_lexer": "ipython3",
   "version": "3.9.0"
  }
 },
 "nbformat": 4,
 "nbformat_minor": 4
}
