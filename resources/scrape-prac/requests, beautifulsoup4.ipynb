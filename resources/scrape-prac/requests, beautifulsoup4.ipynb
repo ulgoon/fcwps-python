{
 "cells": [
  {
   "cell_type": "code",
   "execution_count": 4,
   "id": "experimental-custom",
   "metadata": {},
   "outputs": [],
   "source": [
    "import requests\n",
    "# $ pip install requests or $ poetry add requests 후 사용"
   ]
  },
  {
   "cell_type": "code",
   "execution_count": 5,
   "id": "unknown-president",
   "metadata": {},
   "outputs": [
    {
     "output_type": "execute_result",
     "data": {
      "text/plain": [
       "<Response [200]>"
      ]
     },
     "metadata": {},
     "execution_count": 5
    }
   ],
   "source": [
    "# requests 라이브러리로 웹페이지 접근하기\n",
    "url = 'https://www.google.com/'\n",
    "response = requests.get(url)\n",
    "response"
   ]
  },
  {
   "cell_type": "code",
   "execution_count": 6,
   "id": "applied-wales",
   "metadata": {},
   "outputs": [
    {
     "output_type": "execute_result",
     "data": {
      "text/plain": [
       "'https://www.google.com/'"
      ]
     },
     "metadata": {},
     "execution_count": 6
    }
   ],
   "source": [
    "response.url"
   ]
  },
  {
   "cell_type": "code",
   "execution_count": 7,
   "id": "frank-birth",
   "metadata": {},
   "outputs": [
    {
     "output_type": "execute_result",
     "data": {
      "text/plain": [
       "'<!doctype html><html itemscope=\"\" itemtype=\"http://schema.org/WebPage\" lang=\"ko\"><head><meta content=\"text/html; charset=UTF-8\" http-equiv=\"Content-Type\"><meta content=\"/images/branding/googleg/1x/goo'"
      ]
     },
     "metadata": {},
     "execution_count": 7
    }
   ],
   "source": [
    "response.text[:200]"
   ]
  },
  {
   "cell_type": "code",
   "execution_count": 8,
   "id": "useful-performance",
   "metadata": {},
   "outputs": [
    {
     "output_type": "execute_result",
     "data": {
      "text/plain": [
       "200"
      ]
     },
     "metadata": {},
     "execution_count": 8
    }
   ],
   "source": [
    "response.status_code"
   ]
  },
  {
   "cell_type": "code",
   "execution_count": 10,
   "id": "functional-oklahoma",
   "metadata": {},
   "outputs": [
    {
     "output_type": "execute_result",
     "data": {
      "text/plain": [
       "<Response [200]>"
      ]
     },
     "metadata": {},
     "execution_count": 10
    }
   ],
   "source": [
    "# requests 를 활용한 api 데이터 수집\n",
    "url = 'https://api.kurly.com/v2/categories?ver=1'\n",
    "response = requests.get(url)\n",
    "response"
   ]
  },
  {
   "cell_type": "code",
   "execution_count": 11,
   "id": "occupied-innocent",
   "metadata": {},
   "outputs": [
    {
     "output_type": "execute_result",
     "data": {
      "text/plain": [
       "dict"
      ]
     },
     "metadata": {},
     "execution_count": 11
    }
   ],
   "source": [
    "type (response.json())"
   ]
  },
  {
   "cell_type": "code",
   "execution_count": 12,
   "id": "given-distribution",
   "metadata": {},
   "outputs": [],
   "source": [
    "response_dict = response.json()"
   ]
  },
  {
   "cell_type": "code",
   "execution_count": 16,
   "metadata": {},
   "outputs": [
    {
     "output_type": "execute_result",
     "data": {
      "text/plain": [
       "{'no': '907',\n",
       " 'name': '채소',\n",
       " 'show_all_flag': True,\n",
       " 'pc_icon_url': 'https://img-cf.kurly.com/shop/data/category/icon_veggies_inactive_pc@2x.1586324570.png',\n",
       " 'icon_url': 'https://img-cf.kurly.com/shop/data/category/icon_veggies_inactive@3x.1586324413.png',\n",
       " 'pc_icon_active_url': 'https://img-cf.kurly.com/shop/data/category/icon_veggies_active_pc@2x.1586324570.png',\n",
       " 'icon_active_url': 'https://img-cf.kurly.com/shop/data/category/icon_veggies_active@3x.1586324413.png',\n",
       " 'categories': [{'no': '907001', 'name': '고구마·감자·당근'},\n",
       "  {'no': '907002', 'name': '시금치·쌈채소·나물'},\n",
       "  {'no': '907003', 'name': '브로콜리·파프리카·양배추'},\n",
       "  {'no': '907005', 'name': '양파·대파·마늘·배추'},\n",
       "  {'no': '907004', 'name': '오이·호박·고추'},\n",
       "  {'no': '907007', 'name': '냉동·이색·간편채소'},\n",
       "  {'no': '907006', 'name': '콩나물·버섯'}]}"
      ]
     },
     "metadata": {},
     "execution_count": 16
    }
   ],
   "source": [
    "response_dict['data']['categories'][0]"
   ]
  },
  {
   "cell_type": "code",
   "execution_count": 17,
   "id": "judicial-acrylic",
   "metadata": {},
   "outputs": [
    {
     "output_type": "stream",
     "name": "stdout",
     "text": [
      "채소\n과일·견과·쌀\n수산·해산·건어물\n정육·계란\n국·반찬·메인요리\n샐러드·간편식\n면·양념·오일\n생수·음료·우유·커피\n간식·과자·떡\n베이커리·치즈·델리\n건강식품\n생활용품·리빙\n뷰티·바디케어\n주방용품\n가전제품\n베이비·키즈\n반려동물\n"
     ]
    }
   ],
   "source": [
    "for item in response_dict['data']['categories']:\n",
    "    print(item['name'])"
   ]
  },
  {
   "cell_type": "code",
   "execution_count": 34,
   "id": "immune-incentive",
   "metadata": {},
   "outputs": [],
   "source": [
    "# api 접근할 때 token이 필요할 경우\n",
    "\n",
    "from time import sleep\n",
    "\n",
    "result_dict = {}\n",
    "for item_no in range(1060,1070):\n",
    "    url = 'https://api.kurly.com/v3/home/products/{}?&ver=1613544114547'.format(item_no)\n",
    "    headers = {'authorization':'token'}\n",
    "    response = requests.get(url, headers=headers)\n",
    "    result_dict[item_no] = response.json()\n",
    "    sleep(0.5)"
   ]
  },
  {
   "cell_type": "code",
   "execution_count": 40,
   "id": "polished-bailey",
   "metadata": {
    "scrolled": true
   },
   "outputs": [
    {
     "name": "stdout",
     "output_type": "stream",
     "text": [
      "[무농약 버섯 9종] 새송이버섯 250g 2900\n",
      "[무농약 버섯 9종] 미니새송이버섯 300g 1900\n",
      "[무농약 버섯 9종] 애느타리버섯 200g 1650\n",
      "무농약 브로콜리 1개 3690\n",
      "무농약 브로콜리 3입 8900\n",
      "바질 10g 1800\n",
      "로즈마리 10g 1400\n",
      "애플민트 10g 1450\n",
      "고수 30g 1390\n",
      "루꼴라 30g 1590\n"
     ]
    }
   ],
   "source": [
    "for item in result_dict.keys():\n",
    "    print(result_dict[item]['data']['name'], result_dict[item]['data']['discounted_price'])"
   ]
  },
  {
   "cell_type": "code",
   "execution_count": 39,
   "id": "thermal-wings",
   "metadata": {},
   "outputs": [
    {
     "data": {
      "text/plain": [
       "{'data': {'no': '1060',\n",
       "  'name': '[무농약 버섯 9종] 새송이버섯 250g',\n",
       "  'short_description': '',\n",
       "  'long_description': '',\n",
       "  'tags': {'names': [], 'types': []},\n",
       "  'sales_status': 'ing',\n",
       "  'is_sales': True,\n",
       "  'is_shown': False,\n",
       "  'sales_unit': 1,\n",
       "  'unit_text': '',\n",
       "  'weight': '',\n",
       "  'origin': '',\n",
       "  'contactant': '',\n",
       "  'brand_title': '',\n",
       "  'effective_date_start': '',\n",
       "  'effective_date_end': '',\n",
       "  'expiration_date': '',\n",
       "  'not_sales_text': '',\n",
       "  'extended_infos': [],\n",
       "  'today_brix': '',\n",
       "  'guides': [],\n",
       "  'under_specific_quantity': 5,\n",
       "  'is_expected_point': True,\n",
       "  'expected_point': 0,\n",
       "  'expected_point_ratio': 0,\n",
       "  'is_kurly_pass_product': False,\n",
       "  'delivery_method': '',\n",
       "  'delivery_time_types': [0, 1],\n",
       "  'delivery_time_type_text': '샛별배송/택배배송',\n",
       "  'packing_type_text': '냉장/종이포장',\n",
       "  'delivery_type': 0,\n",
       "  'delivery_type_text': '배송비',\n",
       "  'delivery_price': 0,\n",
       "  'delivery_price_text': '0원 이상 무료배송',\n",
       "  'delivery_area': '',\n",
       "  'is_reserve_delivery': False,\n",
       "  'is_star_delivery': False,\n",
       "  'buyable_kind': 1,\n",
       "  'original_price': 2900,\n",
       "  'discounted_price': 2900,\n",
       "  'discount_percent': 0,\n",
       "  'use_discount_percent': False,\n",
       "  'is_buy_now': False,\n",
       "  'is_sold_out': True,\n",
       "  'is_package_sold_out': True,\n",
       "  'is_detail_sold_out': True,\n",
       "  'sold_out_text': '매주 일~금 23시 이후 입고',\n",
       "  'min_ea': 1,\n",
       "  'max_ea': 999,\n",
       "  'discount_start_datetime': '',\n",
       "  'discount_start_timestamp': 0,\n",
       "  'discount_end_datetime': '',\n",
       "  'discount_end_timestamp': 0,\n",
       "  'discount_level': '',\n",
       "  'use_stocked_notify': True,\n",
       "  'event_type': 0,\n",
       "  'is_suggested_retail_price': False,\n",
       "  'is_divide_check': False,\n",
       "  'original_image_url': '',\n",
       "  'main_image_url': '',\n",
       "  'list_image_url': '',\n",
       "  'detail_image_url': '',\n",
       "  'mobile_list_image_url': '',\n",
       "  'mobile_detail_image_url': '',\n",
       "  'sticker_image_url': None,\n",
       "  'sticker': None,\n",
       "  'is_package': False,\n",
       "  'package_type': 0,\n",
       "  'package_products': [],\n",
       "  'user_event_coupon': None,\n",
       "  'review_count': 0,\n",
       "  'is_purchase_status': True,\n",
       "  'discount_rate': 0}}"
      ]
     },
     "execution_count": 39,
     "metadata": {},
     "output_type": "execute_result"
    }
   ],
   "source": [
    "result_dict[1060]"
   ]
  },
  {
   "cell_type": "code",
   "execution_count": 28,
   "id": "fuzzy-basis",
   "metadata": {},
   "outputs": [
    {
     "data": {
      "text/plain": [
       "{'data': {'no': '1000',\n",
       "  'name': '[한애가] 담금초 무화과 350ml',\n",
       "  'short_description': '부드러운 식감과 은은향이 좋은 실파.',\n",
       "  'long_description': '',\n",
       "  'tags': {'names': [], 'types': []},\n",
       "  'sales_status': 'ing',\n",
       "  'is_sales': True,\n",
       "  'is_shown': False,\n",
       "  'sales_unit': 1,\n",
       "  'unit_text': '',\n",
       "  'weight': '',\n",
       "  'origin': '',\n",
       "  'contactant': '',\n",
       "  'brand_title': '',\n",
       "  'effective_date_start': '',\n",
       "  'effective_date_end': '',\n",
       "  'expiration_date': '',\n",
       "  'not_sales_text': '',\n",
       "  'extended_infos': [],\n",
       "  'today_brix': '',\n",
       "  'guides': [],\n",
       "  'under_specific_quantity': 0,\n",
       "  'is_expected_point': True,\n",
       "  'expected_point': 0,\n",
       "  'expected_point_ratio': 0,\n",
       "  'is_kurly_pass_product': False,\n",
       "  'delivery_method': '',\n",
       "  'delivery_time_types': [0, 1],\n",
       "  'delivery_time_type_text': '샛별배송/택배배송',\n",
       "  'packing_type_text': '상온/종이포장',\n",
       "  'delivery_type': 0,\n",
       "  'delivery_type_text': '배송비',\n",
       "  'delivery_price': 0,\n",
       "  'delivery_price_text': '0원 이상 무료배송',\n",
       "  'delivery_area': '',\n",
       "  'is_reserve_delivery': False,\n",
       "  'is_star_delivery': False,\n",
       "  'buyable_kind': 1,\n",
       "  'original_price': 31000,\n",
       "  'discounted_price': 31000,\n",
       "  'discount_percent': 0,\n",
       "  'use_discount_percent': False,\n",
       "  'is_buy_now': False,\n",
       "  'is_sold_out': False,\n",
       "  'is_package_sold_out': False,\n",
       "  'is_detail_sold_out': False,\n",
       "  'sold_out_text': '협력사와 입고일을 협의 중입니다.',\n",
       "  'min_ea': 1,\n",
       "  'max_ea': 999,\n",
       "  'discount_start_datetime': '',\n",
       "  'discount_start_timestamp': 0,\n",
       "  'discount_end_datetime': '',\n",
       "  'discount_end_timestamp': 0,\n",
       "  'discount_level': '',\n",
       "  'use_stocked_notify': False,\n",
       "  'event_type': 0,\n",
       "  'is_suggested_retail_price': False,\n",
       "  'is_divide_check': False,\n",
       "  'original_image_url': '',\n",
       "  'main_image_url': '',\n",
       "  'list_image_url': '',\n",
       "  'detail_image_url': '',\n",
       "  'mobile_list_image_url': '',\n",
       "  'mobile_detail_image_url': '',\n",
       "  'sticker_image_url': None,\n",
       "  'sticker': None,\n",
       "  'is_package': False,\n",
       "  'package_type': 0,\n",
       "  'package_products': [],\n",
       "  'user_event_coupon': None,\n",
       "  'review_count': 0,\n",
       "  'is_purchase_status': True,\n",
       "  'discount_rate': 0}}"
      ]
     },
     "execution_count": 28,
     "metadata": {},
     "output_type": "execute_result"
    }
   ],
   "source": [
    "result_dict[1000]"
   ]
  },
  {
   "cell_type": "code",
   "execution_count": 44,
   "id": "contrary-celtic",
   "metadata": {},
   "outputs": [
    {
     "data": {
      "text/plain": [
       "200"
      ]
     },
     "execution_count": 44,
     "metadata": {},
     "output_type": "execute_result"
    }
   ],
   "source": [
    "# beautifulsoup 을 활용한 페이지 데이터 수집\n",
    "from bs4 import BeautifulSoup\n",
    "import lxml\n",
    "\n",
    "\n",
    "url = 'https://en.wikipedia.org/wiki/Coronavirus_disease_2019'\n",
    "response = requests.get(url)\n",
    "response.status_code"
   ]
  },
  {
   "cell_type": "code",
   "execution_count": 42,
   "id": "strong-premises",
   "metadata": {},
   "outputs": [
    {
     "data": {
      "text/plain": [
       "'<!DOCTYPE html>\\n<html class=\"client-nojs\" lang=\"en\" dir=\"ltr\">\\n<head>\\n<meta charset=\"UTF-8\"/>\\n<title>Coronavirus disease 2019 - Wikipedia</title>\\n<script>document.documentElement.className=\"client-js\"'"
      ]
     },
     "execution_count": 42,
     "metadata": {},
     "output_type": "execute_result"
    }
   ],
   "source": [
    "response.text[:200]"
   ]
  },
  {
   "cell_type": "code",
   "execution_count": 45,
   "id": "several-hampshire",
   "metadata": {},
   "outputs": [
    {
     "data": {
      "text/plain": [
       "<div aria-labelledby=\"mw-toc-heading\" class=\"toc\" id=\"toc\" role=\"navigation\"><input class=\"toctogglecheckbox\" id=\"toctogglecheckbox\" role=\"button\" style=\"display:none\" type=\"checkbox\"/><div class=\"toctitle\" dir=\"ltr\" lang=\"en\"><h2 id=\"mw-toc-heading\">Contents</h2><span class=\"toctogglespan\"><label class=\"toctogglelabel\" for=\"toctogglecheckbox\"></label></span></div>\n",
       "<ul>\n",
       "<li class=\"toclevel-1 tocsection-1\"><a href=\"#Signs_and_symptoms\"><span class=\"tocnumber\">1</span> <span class=\"toctext\">Signs and symptoms</span></a></li>\n",
       "<li class=\"toclevel-1 tocsection-2\"><a href=\"#Cause\"><span class=\"tocnumber\">2</span> <span class=\"toctext\">Cause</span></a>\n",
       "<ul>\n",
       "<li class=\"toclevel-2 tocsection-3\"><a href=\"#Transmission\"><span class=\"tocnumber\">2.1</span> <span class=\"toctext\">Transmission</span></a></li>\n",
       "<li class=\"toclevel-2 tocsection-4\"><a href=\"#Virology\"><span class=\"tocnumber\">2.2</span> <span class=\"toctext\">Virology</span></a></li>\n",
       "<li class=\"toclevel-2 tocsection-5\"><a href=\"#SARS-CoV-2_variants\"><span class=\"tocnumber\">2.3</span> <span class=\"toctext\">SARS-CoV-2 variants</span></a></li>\n",
       "</ul>\n",
       "</li>\n",
       "<li class=\"toclevel-1 tocsection-6\"><a href=\"#Pathophysiology\"><span class=\"tocnumber\">3</span> <span class=\"toctext\">Pathophysiology</span></a>\n",
       "<ul>\n",
       "<li class=\"toclevel-2 tocsection-7\"><a href=\"#Immunopathology\"><span class=\"tocnumber\">3.1</span> <span class=\"toctext\">Immunopathology</span></a></li>\n",
       "<li class=\"toclevel-2 tocsection-8\"><a href=\"#Viral_and_host_factors\"><span class=\"tocnumber\">3.2</span> <span class=\"toctext\">Viral and host factors</span></a>\n",
       "<ul>\n",
       "<li class=\"toclevel-3 tocsection-9\"><a href=\"#Virus_proteins\"><span class=\"tocnumber\">3.2.1</span> <span class=\"toctext\">Virus proteins</span></a></li>\n",
       "<li class=\"toclevel-3 tocsection-10\"><a href=\"#Host_factors\"><span class=\"tocnumber\">3.2.2</span> <span class=\"toctext\">Host factors</span></a></li>\n",
       "</ul>\n",
       "</li>\n",
       "<li class=\"toclevel-2 tocsection-11\"><a href=\"#Host_cytokine_response\"><span class=\"tocnumber\">3.3</span> <span class=\"toctext\">Host cytokine response</span></a></li>\n",
       "</ul>\n",
       "</li>\n",
       "<li class=\"toclevel-1 tocsection-12\"><a href=\"#Diagnosis\"><span class=\"tocnumber\">4</span> <span class=\"toctext\">Diagnosis</span></a>\n",
       "<ul>\n",
       "<li class=\"toclevel-2 tocsection-13\"><a href=\"#Viral_testing\"><span class=\"tocnumber\">4.1</span> <span class=\"toctext\">Viral testing</span></a></li>\n",
       "<li class=\"toclevel-2 tocsection-14\"><a href=\"#Imaging\"><span class=\"tocnumber\">4.2</span> <span class=\"toctext\">Imaging</span></a></li>\n",
       "<li class=\"toclevel-2 tocsection-15\"><a href=\"#Coding\"><span class=\"tocnumber\">4.3</span> <span class=\"toctext\">Coding</span></a></li>\n",
       "<li class=\"toclevel-2 tocsection-16\"><a href=\"#Pathology\"><span class=\"tocnumber\">4.4</span> <span class=\"toctext\">Pathology</span></a></li>\n",
       "</ul>\n",
       "</li>\n",
       "<li class=\"toclevel-1 tocsection-17\"><a href=\"#Prevention\"><span class=\"tocnumber\">5</span> <span class=\"toctext\">Prevention</span></a>\n",
       "<ul>\n",
       "<li class=\"toclevel-2 tocsection-18\"><a href=\"#Vaccine\"><span class=\"tocnumber\">5.1</span> <span class=\"toctext\">Vaccine</span></a></li>\n",
       "<li class=\"toclevel-2 tocsection-19\"><a href=\"#Social_distancing\"><span class=\"tocnumber\">5.2</span> <span class=\"toctext\">Social distancing</span></a></li>\n",
       "<li class=\"toclevel-2 tocsection-20\"><a href=\"#Self-isolation\"><span class=\"tocnumber\">5.3</span> <span class=\"toctext\">Self-isolation</span></a></li>\n",
       "<li class=\"toclevel-2 tocsection-21\"><a href=\"#Face_masks_and_respiratory_hygiene\"><span class=\"tocnumber\">5.4</span> <span class=\"toctext\">Face masks and respiratory hygiene</span></a></li>\n",
       "<li class=\"toclevel-2 tocsection-22\"><a href=\"#Hand-washing_and_hygiene\"><span class=\"tocnumber\">5.5</span> <span class=\"toctext\">Hand-washing and hygiene</span></a></li>\n",
       "<li class=\"toclevel-2 tocsection-23\"><a href=\"#Surface_cleaning\"><span class=\"tocnumber\">5.6</span> <span class=\"toctext\">Surface cleaning</span></a></li>\n",
       "<li class=\"toclevel-2 tocsection-24\"><a href=\"#Ventilation_and_air_filtration\"><span class=\"tocnumber\">5.7</span> <span class=\"toctext\">Ventilation and air filtration</span></a></li>\n",
       "<li class=\"toclevel-2 tocsection-25\"><a href=\"#Healthy_diet_and_lifestyle\"><span class=\"tocnumber\">5.8</span> <span class=\"toctext\">Healthy diet and lifestyle</span></a></li>\n",
       "</ul>\n",
       "</li>\n",
       "<li class=\"toclevel-1 tocsection-26\"><a href=\"#Treatment\"><span class=\"tocnumber\">6</span> <span class=\"toctext\">Treatment</span></a></li>\n",
       "<li class=\"toclevel-1 tocsection-27\"><a href=\"#Prognosis\"><span class=\"tocnumber\">7</span> <span class=\"toctext\">Prognosis</span></a>\n",
       "<ul>\n",
       "<li class=\"toclevel-2 tocsection-28\"><a href=\"#Complications\"><span class=\"tocnumber\">7.1</span> <span class=\"toctext\">Complications</span></a></li>\n",
       "<li class=\"toclevel-2 tocsection-29\"><a href=\"#Longer-term_effects\"><span class=\"tocnumber\">7.2</span> <span class=\"toctext\">Longer-term effects</span></a></li>\n",
       "<li class=\"toclevel-2 tocsection-30\"><a href=\"#Immunity\"><span class=\"tocnumber\">7.3</span> <span class=\"toctext\">Immunity</span></a></li>\n",
       "</ul>\n",
       "</li>\n",
       "<li class=\"toclevel-1 tocsection-31\"><a href=\"#Mortality\"><span class=\"tocnumber\">8</span> <span class=\"toctext\">Mortality</span></a>\n",
       "<ul>\n",
       "<li class=\"toclevel-2 tocsection-32\"><a href=\"#Infection_fatality_rate\"><span class=\"tocnumber\">8.1</span> <span class=\"toctext\">Infection fatality rate</span></a>\n",
       "<ul>\n",
       "<li class=\"toclevel-3 tocsection-33\"><a href=\"#Current_estimates\"><span class=\"tocnumber\">8.1.1</span> <span class=\"toctext\">Current estimates</span></a></li>\n",
       "<li class=\"toclevel-3 tocsection-34\"><a href=\"#Earlier_estimates_of_IFR\"><span class=\"tocnumber\">8.1.2</span> <span class=\"toctext\">Earlier estimates of IFR</span></a></li>\n",
       "</ul>\n",
       "</li>\n",
       "<li class=\"toclevel-2 tocsection-35\"><a href=\"#Sex_differences\"><span class=\"tocnumber\">8.2</span> <span class=\"toctext\">Sex differences</span></a></li>\n",
       "<li class=\"toclevel-2 tocsection-36\"><a href=\"#Ethnic_differences\"><span class=\"tocnumber\">8.3</span> <span class=\"toctext\">Ethnic differences</span></a></li>\n",
       "<li class=\"toclevel-2 tocsection-37\"><a href=\"#Comorbidities\"><span class=\"tocnumber\">8.4</span> <span class=\"toctext\">Comorbidities</span></a></li>\n",
       "</ul>\n",
       "</li>\n",
       "<li class=\"toclevel-1 tocsection-38\"><a href=\"#Name\"><span class=\"tocnumber\">9</span> <span class=\"toctext\">Name</span></a></li>\n",
       "<li class=\"toclevel-1 tocsection-39\"><a href=\"#History\"><span class=\"tocnumber\">10</span> <span class=\"toctext\">History</span></a></li>\n",
       "<li class=\"toclevel-1 tocsection-40\"><a href=\"#Misinformation\"><span class=\"tocnumber\">11</span> <span class=\"toctext\">Misinformation</span></a></li>\n",
       "<li class=\"toclevel-1 tocsection-41\"><a href=\"#Other_animals\"><span class=\"tocnumber\">12</span> <span class=\"toctext\">Other animals</span></a></li>\n",
       "<li class=\"toclevel-1 tocsection-42\"><a href=\"#Research\"><span class=\"tocnumber\">13</span> <span class=\"toctext\">Research</span></a>\n",
       "<ul>\n",
       "<li class=\"toclevel-2 tocsection-43\"><a href=\"#Transmission_and_prevention_research\"><span class=\"tocnumber\">13.1</span> <span class=\"toctext\">Transmission and prevention research</span></a></li>\n",
       "<li class=\"toclevel-2 tocsection-44\"><a href=\"#Treatment-related_research\"><span class=\"tocnumber\">13.2</span> <span class=\"toctext\">Treatment-related research</span></a>\n",
       "<ul>\n",
       "<li class=\"toclevel-3 tocsection-45\"><a href=\"#Cytokine_storm\"><span class=\"tocnumber\">13.2.1</span> <span class=\"toctext\">Cytokine storm</span></a></li>\n",
       "<li class=\"toclevel-3 tocsection-46\"><a href=\"#Passive_antibodies\"><span class=\"tocnumber\">13.2.2</span> <span class=\"toctext\">Passive antibodies</span></a></li>\n",
       "</ul>\n",
       "</li>\n",
       "</ul>\n",
       "</li>\n",
       "<li class=\"toclevel-1 tocsection-47\"><a href=\"#See_also\"><span class=\"tocnumber\">14</span> <span class=\"toctext\">See also</span></a></li>\n",
       "<li class=\"toclevel-1 tocsection-48\"><a href=\"#Notes\"><span class=\"tocnumber\">15</span> <span class=\"toctext\">Notes</span></a></li>\n",
       "<li class=\"toclevel-1 tocsection-49\"><a href=\"#References\"><span class=\"tocnumber\">16</span> <span class=\"toctext\">References</span></a></li>\n",
       "<li class=\"toclevel-1 tocsection-50\"><a href=\"#Further_reading\"><span class=\"tocnumber\">17</span> <span class=\"toctext\">Further reading</span></a></li>\n",
       "<li class=\"toclevel-1 tocsection-51\"><a href=\"#External_links\"><span class=\"tocnumber\">18</span> <span class=\"toctext\">External links</span></a>\n",
       "<ul>\n",
       "<li class=\"toclevel-2 tocsection-52\"><a href=\"#Health_agencies\"><span class=\"tocnumber\">18.1</span> <span class=\"toctext\">Health agencies</span></a></li>\n",
       "<li class=\"toclevel-2 tocsection-53\"><a href=\"#Directories\"><span class=\"tocnumber\">18.2</span> <span class=\"toctext\">Directories</span></a></li>\n",
       "<li class=\"toclevel-2 tocsection-54\"><a href=\"#Medical_journals\"><span class=\"tocnumber\">18.3</span> <span class=\"toctext\">Medical journals</span></a></li>\n",
       "<li class=\"toclevel-2 tocsection-55\"><a href=\"#Treatment_guidelines\"><span class=\"tocnumber\">18.4</span> <span class=\"toctext\">Treatment guidelines</span></a></li>\n",
       "</ul>\n",
       "</li>\n",
       "</ul>\n",
       "</div>"
      ]
     },
     "execution_count": 45,
     "metadata": {},
     "output_type": "execute_result"
    }
   ],
   "source": [
    "html_text = response.text\n",
    "\n",
    "soup = BeautifulSoup(html_text, 'lxml') # 'html.parser'\n",
    "\n",
    "toc_div = soup.find('div', attrs={'id':'toc'})\n",
    "toc_div\n",
    "# soup.find()\n",
    "# soup.find_all()\n",
    "# soup.select()\n",
    "# soup.select_all()"
   ]
  },
  {
   "cell_type": "code",
   "execution_count": 48,
   "id": "literary-champagne",
   "metadata": {},
   "outputs": [
    {
     "name": "stdout",
     "output_type": "stream",
     "text": [
      "1 Signs and symptoms\n",
      "2 Cause\n",
      "\n",
      "2.1 Transmission\n",
      "2.2 Virology\n",
      "2.3 SARS-CoV-2 variants\n",
      "\n",
      "\n",
      "2.1 Transmission\n",
      "2.2 Virology\n",
      "2.3 SARS-CoV-2 variants\n",
      "3 Pathophysiology\n",
      "\n",
      "3.1 Immunopathology\n",
      "3.2 Viral and host factors\n",
      "\n",
      "3.2.1 Virus proteins\n",
      "3.2.2 Host factors\n",
      "\n",
      "\n",
      "3.3 Host cytokine response\n",
      "\n",
      "\n",
      "3.1 Immunopathology\n",
      "3.2 Viral and host factors\n",
      "\n",
      "3.2.1 Virus proteins\n",
      "3.2.2 Host factors\n",
      "\n",
      "\n",
      "3.2.1 Virus proteins\n",
      "3.2.2 Host factors\n",
      "3.3 Host cytokine response\n",
      "4 Diagnosis\n",
      "\n",
      "4.1 Viral testing\n",
      "4.2 Imaging\n",
      "4.3 Coding\n",
      "4.4 Pathology\n",
      "\n",
      "\n",
      "4.1 Viral testing\n",
      "4.2 Imaging\n",
      "4.3 Coding\n",
      "4.4 Pathology\n",
      "5 Prevention\n",
      "\n",
      "5.1 Vaccine\n",
      "5.2 Social distancing\n",
      "5.3 Self-isolation\n",
      "5.4 Face masks and respiratory hygiene\n",
      "5.5 Hand-washing and hygiene\n",
      "5.6 Surface cleaning\n",
      "5.7 Ventilation and air filtration\n",
      "5.8 Healthy diet and lifestyle\n",
      "\n",
      "\n",
      "5.1 Vaccine\n",
      "5.2 Social distancing\n",
      "5.3 Self-isolation\n",
      "5.4 Face masks and respiratory hygiene\n",
      "5.5 Hand-washing and hygiene\n",
      "5.6 Surface cleaning\n",
      "5.7 Ventilation and air filtration\n",
      "5.8 Healthy diet and lifestyle\n",
      "6 Treatment\n",
      "7 Prognosis\n",
      "\n",
      "7.1 Complications\n",
      "7.2 Longer-term effects\n",
      "7.3 Immunity\n",
      "\n",
      "\n",
      "7.1 Complications\n",
      "7.2 Longer-term effects\n",
      "7.3 Immunity\n",
      "8 Mortality\n",
      "\n",
      "8.1 Infection fatality rate\n",
      "\n",
      "8.1.1 Current estimates\n",
      "8.1.2 Earlier estimates of IFR\n",
      "\n",
      "\n",
      "8.2 Sex differences\n",
      "8.3 Ethnic differences\n",
      "8.4 Comorbidities\n",
      "\n",
      "\n",
      "8.1 Infection fatality rate\n",
      "\n",
      "8.1.1 Current estimates\n",
      "8.1.2 Earlier estimates of IFR\n",
      "\n",
      "\n",
      "8.1.1 Current estimates\n",
      "8.1.2 Earlier estimates of IFR\n",
      "8.2 Sex differences\n",
      "8.3 Ethnic differences\n",
      "8.4 Comorbidities\n",
      "9 Name\n",
      "10 History\n",
      "11 Misinformation\n",
      "12 Other animals\n",
      "13 Research\n",
      "\n",
      "13.1 Transmission and prevention research\n",
      "13.2 Treatment-related research\n",
      "\n",
      "13.2.1 Cytokine storm\n",
      "13.2.2 Passive antibodies\n",
      "\n",
      "\n",
      "\n",
      "\n",
      "13.1 Transmission and prevention research\n",
      "13.2 Treatment-related research\n",
      "\n",
      "13.2.1 Cytokine storm\n",
      "13.2.2 Passive antibodies\n",
      "\n",
      "\n",
      "13.2.1 Cytokine storm\n",
      "13.2.2 Passive antibodies\n",
      "14 See also\n",
      "15 Notes\n",
      "16 References\n",
      "17 Further reading\n",
      "18 External links\n",
      "\n",
      "18.1 Health agencies\n",
      "18.2 Directories\n",
      "18.3 Medical journals\n",
      "18.4 Treatment guidelines\n",
      "\n",
      "\n",
      "18.1 Health agencies\n",
      "18.2 Directories\n",
      "18.3 Medical journals\n",
      "18.4 Treatment guidelines\n"
     ]
    }
   ],
   "source": [
    "content_li = toc_div.find_all('li')\n",
    "for li in content_li:\n",
    "    print(li.text)"
   ]
  },
  {
   "cell_type": "code",
   "execution_count": null,
   "id": "missing-harvard",
   "metadata": {},
   "outputs": [],
   "source": [
    "#1\n",
    "https://apiv2.corona-live.com/updates.json?timestamp=1613547340934\n",
    "\n",
    "#2\n",
    "https://en.wikipedia.org/wiki/COVID-19_pandemic_in_South_Korea"
   ]
  }
 ],
 "metadata": {
  "kernelspec": {
   "display_name": "Python 3",
   "language": "python",
   "name": "python3"
  },
  "language_info": {
   "codemirror_mode": {
    "name": "ipython",
    "version": 3
   },
   "file_extension": ".py",
   "mimetype": "text/x-python",
   "name": "python",
   "nbconvert_exporter": "python",
   "pygments_lexer": "ipython3",
   "version": "3.9.0-final"
  }
 },
 "nbformat": 4,
 "nbformat_minor": 5
}