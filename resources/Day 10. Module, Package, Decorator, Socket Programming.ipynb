{
 "cells": [
  {
   "cell_type": "code",
   "execution_count": 1,
   "metadata": {},
   "outputs": [],
   "source": [
    "def make_difference(operator):\n",
    "    if operator == '+':\n",
    "        return lambda x,y:x+y\n",
    "    elif operator == '-':\n",
    "        return lambda x,y:x-y"
   ]
  },
  {
   "cell_type": "code",
   "execution_count": 2,
   "metadata": {},
   "outputs": [
    {
     "data": {
      "text/plain": [
       "<function __main__.make_difference.<locals>.<lambda>(x, y)>"
      ]
     },
     "execution_count": 2,
     "metadata": {},
     "output_type": "execute_result"
    }
   ],
   "source": [
    "plus = make_difference('+')\n",
    "plus"
   ]
  },
  {
   "cell_type": "code",
   "execution_count": 3,
   "metadata": {},
   "outputs": [
    {
     "data": {
      "text/plain": [
       "3"
      ]
     },
     "execution_count": 3,
     "metadata": {},
     "output_type": "execute_result"
    }
   ],
   "source": [
    "plus(1,2)"
   ]
  },
  {
   "cell_type": "code",
   "execution_count": 4,
   "metadata": {},
   "outputs": [
    {
     "name": "stdout",
     "output_type": "stream",
     "text": [
      "<function print_hello at 0x10b3d4b80> <function print_hello at 0x10b3d4b80>\n"
     ]
    }
   ],
   "source": [
    "def print_hello(msg):\n",
    "    print(msg)\n",
    "\n",
    "copied = print_hello\n",
    "print(copied, print_hello)"
   ]
  },
  {
   "cell_type": "code",
   "execution_count": 25,
   "metadata": {},
   "outputs": [],
   "source": [
    "def outer():\n",
    "    text_a = 'John'\n",
    "    def inner():\n",
    "        b = 'Doe'\n",
    "        print(\"My name is {} {}.\".format(text_a, b))\n",
    "    return inner"
   ]
  },
  {
   "cell_type": "code",
   "execution_count": 26,
   "metadata": {},
   "outputs": [
    {
     "data": {
      "text/plain": [
       "<function __main__.outer.<locals>.inner()>"
      ]
     },
     "execution_count": 26,
     "metadata": {},
     "output_type": "execute_result"
    }
   ],
   "source": [
    "outer()"
   ]
  },
  {
   "cell_type": "code",
   "execution_count": 27,
   "metadata": {},
   "outputs": [],
   "source": [
    "func = outer()"
   ]
  },
  {
   "cell_type": "code",
   "execution_count": 28,
   "metadata": {},
   "outputs": [
    {
     "data": {
      "text/plain": [
       "<function __main__.outer.<locals>.inner()>"
      ]
     },
     "execution_count": 28,
     "metadata": {},
     "output_type": "execute_result"
    }
   ],
   "source": [
    "func"
   ]
  },
  {
   "cell_type": "code",
   "execution_count": 29,
   "metadata": {},
   "outputs": [
    {
     "data": {
      "text/plain": [
       "['__repr__',\n",
       " '__call__',\n",
       " '__get__',\n",
       " '__new__',\n",
       " '__closure__',\n",
       " '__doc__',\n",
       " '__globals__',\n",
       " '__module__',\n",
       " '__code__',\n",
       " '__defaults__',\n",
       " '__kwdefaults__',\n",
       " '__annotations__',\n",
       " '__dict__',\n",
       " '__name__',\n",
       " '__qualname__',\n",
       " '__hash__',\n",
       " '__str__',\n",
       " '__getattribute__',\n",
       " '__setattr__',\n",
       " '__delattr__',\n",
       " '__lt__',\n",
       " '__le__',\n",
       " '__eq__',\n",
       " '__ne__',\n",
       " '__gt__',\n",
       " '__ge__',\n",
       " '__init__',\n",
       " '__reduce_ex__',\n",
       " '__reduce__',\n",
       " '__subclasshook__',\n",
       " '__init_subclass__',\n",
       " '__format__',\n",
       " '__sizeof__',\n",
       " '__dir__',\n",
       " '__class__']"
      ]
     },
     "execution_count": 29,
     "metadata": {},
     "output_type": "execute_result"
    }
   ],
   "source": [
    "func.__dir__()"
   ]
  },
  {
   "cell_type": "code",
   "execution_count": 32,
   "metadata": {},
   "outputs": [
    {
     "data": {
      "text/plain": [
       "'John'"
      ]
     },
     "execution_count": 32,
     "metadata": {},
     "output_type": "execute_result"
    }
   ],
   "source": [
    "func.__closure__[0].cell_contents"
   ]
  },
  {
   "cell_type": "code",
   "execution_count": 33,
   "metadata": {},
   "outputs": [
    {
     "name": "stdout",
     "output_type": "stream",
     "text": [
      "a\n"
     ]
    }
   ],
   "source": [
    "print('a')"
   ]
  },
  {
   "cell_type": "code",
   "execution_count": 35,
   "metadata": {},
   "outputs": [
    {
     "data": {
      "text/plain": [
       "<function print>"
      ]
     },
     "execution_count": 35,
     "metadata": {},
     "output_type": "execute_result"
    }
   ],
   "source": [
    "print"
   ]
  },
  {
   "cell_type": "code",
   "execution_count": 46,
   "metadata": {},
   "outputs": [],
   "source": [
    "def rapper(func):\n",
    "    def wrapper():\n",
    "        func()\n",
    "        print('너와나의 연결고리..')\n",
    "    return wrapper\n",
    "\n",
    "@rapper\n",
    "def dok2():\n",
    "    print('이건 우리 안의 소리')"
   ]
  },
  {
   "cell_type": "code",
   "execution_count": 39,
   "metadata": {},
   "outputs": [
    {
     "name": "stdout",
     "output_type": "stream",
     "text": [
      "이건 우리 안의 소리\n",
      "너와나의 연결고리..\n"
     ]
    }
   ],
   "source": [
    "dok2()"
   ]
  },
  {
   "cell_type": "code",
   "execution_count": 47,
   "metadata": {},
   "outputs": [
    {
     "name": "stdout",
     "output_type": "stream",
     "text": [
      "이건 우리 안의 소리\n",
      "너와나의 연결고리..\n",
      "너와나의 연결고리..\n"
     ]
    }
   ],
   "source": [
    "rapper(dok2)()"
   ]
  },
  {
   "cell_type": "code",
   "execution_count": 48,
   "metadata": {},
   "outputs": [],
   "source": [
    "def fibo_rec(num):\n",
    "    if num < 2:\n",
    "        return num\n",
    "    else:\n",
    "        return fibo_rec(num-2) + fibo_rec(num-1)"
   ]
  },
  {
   "cell_type": "code",
   "execution_count": 49,
   "metadata": {},
   "outputs": [
    {
     "data": {
      "text/plain": [
       "2"
      ]
     },
     "execution_count": 49,
     "metadata": {},
     "output_type": "execute_result"
    }
   ],
   "source": [
    "fibo_rec(3)"
   ]
  },
  {
   "cell_type": "code",
   "execution_count": 58,
   "metadata": {},
   "outputs": [],
   "source": [
    "def memoize(func):\n",
    "    memo={}\n",
    "    def wrapper(seq):\n",
    "        if seq not in memo:\n",
    "            memo[seq] = func(seq)\n",
    "        return memo[seq]\n",
    "    return wrapper\n",
    "\n",
    "@memoize\n",
    "def fibo_memo(num):\n",
    "    if num < 2:\n",
    "        return num\n",
    "    else:\n",
    "        return fibo_memo(num-2) + fibo_memo(num-1)"
   ]
  },
  {
   "cell_type": "code",
   "execution_count": 61,
   "metadata": {},
   "outputs": [
    {
     "data": {
      "text/plain": [
       "139423224561697880139724382870407283950070256587697307264108962948325571622863290691557658876222521294125"
      ]
     },
     "execution_count": 61,
     "metadata": {},
     "output_type": "execute_result"
    }
   ],
   "source": [
    "fibo_memo(500)"
   ]
  },
  {
   "cell_type": "markdown",
   "metadata": {},
   "source": [
    "- 1호차입니다. ~ 5호차입니다.\n",
    "\n",
    "1호차입니다.\n",
    "\n",
    "2호차입니다.\n",
    "\n",
    "3호차입니다.\n",
    "\n",
    "4호차입니다.\n",
    "\n",
    "5호차입니다."
   ]
  },
  {
   "cell_type": "code",
   "execution_count": 62,
   "metadata": {},
   "outputs": [],
   "source": [
    "def call_train1(func):\n",
    "    def wrapper():\n",
    "        print('1호차입니다.')\n",
    "        func()\n",
    "    return wrapper\n",
    "\n",
    "def call_train2(func):\n",
    "    def wrapper():\n",
    "        print('2호차입니다.')\n",
    "        func()\n",
    "    return wrapper\n",
    "\n",
    "def call_train3(func):\n",
    "    def wrapper():\n",
    "        print('3호차입니다.')\n",
    "        func()\n",
    "    return wrapper\n",
    "\n",
    "def call_train4(func):\n",
    "    def wrapper():\n",
    "        print('4호차입니다.')\n",
    "        func()\n",
    "    return wrapper\n",
    "# call_train(call_train(print_train))()\n",
    "@call_train1\n",
    "@call_train2\n",
    "@call_train3\n",
    "@call_train4\n",
    "def print_train():\n",
    "    print('5호차입니다.')"
   ]
  },
  {
   "cell_type": "code",
   "execution_count": 63,
   "metadata": {},
   "outputs": [
    {
     "name": "stdout",
     "output_type": "stream",
     "text": [
      "1호차입니다.\n",
      "2호차입니다.\n",
      "3호차입니다.\n",
      "4호차입니다.\n",
      "5호차입니다.\n"
     ]
    }
   ],
   "source": [
    "print_train()"
   ]
  },
  {
   "cell_type": "code",
   "execution_count": 64,
   "metadata": {},
   "outputs": [],
   "source": [
    "from time import time\n",
    "\n",
    "\n",
    "def time_checker(func):\n",
    "    def wrapper():\n",
    "        start_at = time()\n",
    "        result = func()\n",
    "        end_at = time()\n",
    "        print(\"execution time: {}sec\".format(end_at-start_at))\n",
    "        return result\n",
    "    return wrapper"
   ]
  },
  {
   "cell_type": "code",
   "execution_count": 65,
   "metadata": {},
   "outputs": [],
   "source": [
    "@time_checker\n",
    "def fibo_rec(num):\n",
    "    if num < 2:\n",
    "        return num\n",
    "    else:\n",
    "        fibo_rec(num-2) + fibo_rec(num-1)"
   ]
  },
  {
   "cell_type": "code",
   "execution_count": 66,
   "metadata": {},
   "outputs": [
    {
     "ename": "TypeError",
     "evalue": "wrapper() takes 0 positional arguments but 1 was given",
     "output_type": "error",
     "traceback": [
      "\u001b[0;31m---------------------------------------------------------------------------\u001b[0m",
      "\u001b[0;31mTypeError\u001b[0m                                 Traceback (most recent call last)",
      "\u001b[0;32m<ipython-input-66-6b9551043b1b>\u001b[0m in \u001b[0;36m<module>\u001b[0;34m\u001b[0m\n\u001b[0;32m----> 1\u001b[0;31m \u001b[0mfibo_rec\u001b[0m\u001b[0;34m(\u001b[0m\u001b[0;36m10\u001b[0m\u001b[0;34m)\u001b[0m\u001b[0;34m\u001b[0m\u001b[0;34m\u001b[0m\u001b[0m\n\u001b[0m",
      "\u001b[0;31mTypeError\u001b[0m: wrapper() takes 0 positional arguments but 1 was given"
     ]
    }
   ],
   "source": [
    "fibo_rec(10)"
   ]
  },
  {
   "cell_type": "code",
   "execution_count": 74,
   "metadata": {},
   "outputs": [],
   "source": [
    "def time_checker(func):\n",
    "    def wrapper(*args, **kwargs):\n",
    "        start_at = time()\n",
    "        result = func(*args, **kwargs)\n",
    "        end_at = time()\n",
    "        print(\"execution time: {}sec\".format(end_at-start_at))\n",
    "        return result\n",
    "    return wrapper"
   ]
  },
  {
   "cell_type": "code",
   "execution_count": 75,
   "metadata": {},
   "outputs": [],
   "source": [
    "@time_checker\n",
    "def fibo_rec(num):\n",
    "    if num < 2:\n",
    "        return num\n",
    "    else:\n",
    "        return fibo_rec(num-2) + fibo_rec(num-1)"
   ]
  },
  {
   "cell_type": "code",
   "execution_count": 76,
   "metadata": {
    "scrolled": false
   },
   "outputs": [
    {
     "name": "stdout",
     "output_type": "stream",
     "text": [
      "execution time: 9.5367431640625e-07sec\n",
      "execution time: 0.0sec\n",
      "execution time: 6.222724914550781e-05sec\n",
      "execution time: 9.5367431640625e-07sec\n",
      "execution time: 9.5367431640625e-07sec\n",
      "execution time: 9.5367431640625e-07sec\n",
      "execution time: 7.295608520507812e-05sec\n",
      "execution time: 0.00013065338134765625sec\n",
      "execution time: 0.00023317337036132812sec\n",
      "execution time: 1.1920928955078125e-06sec\n",
      "execution time: 0.0sec\n",
      "execution time: 0.0sec\n",
      "execution time: 3.62396240234375e-05sec\n",
      "execution time: 7.510185241699219e-05sec\n",
      "execution time: 0.0sec\n",
      "execution time: 0.0sec\n",
      "execution time: 3.62396240234375e-05sec\n",
      "execution time: 0.0sec\n",
      "execution time: 9.5367431640625e-07sec\n",
      "execution time: 1.1920928955078125e-06sec\n",
      "execution time: 3.981590270996094e-05sec\n",
      "execution time: 7.891654968261719e-05sec\n",
      "execution time: 0.00015211105346679688sec\n",
      "execution time: 0.00026488304138183594sec\n",
      "execution time: 0.0005350112915039062sec\n",
      "execution time: 9.5367431640625e-07sec\n",
      "execution time: 0.0sec\n",
      "execution time: 0.0sec\n",
      "execution time: 3.910064697265625e-05sec\n",
      "execution time: 8.0108642578125e-05sec\n",
      "execution time: 0.0sec\n",
      "execution time: 9.5367431640625e-07sec\n",
      "execution time: 3.790855407714844e-05sec\n",
      "execution time: 0.0sec\n",
      "execution time: 0.0sec\n",
      "execution time: 0.0sec\n",
      "execution time: 5.3882598876953125e-05sec\n",
      "execution time: 0.00031828880310058594sec\n",
      "execution time: 0.0005922317504882812sec\n",
      "execution time: 0.0007119178771972656sec\n",
      "execution time: 0.0sec\n",
      "execution time: 0.0sec\n",
      "execution time: 3.695487976074219e-05sec\n",
      "execution time: 0.0sec\n",
      "execution time: 0.0sec\n",
      "execution time: 9.5367431640625e-07sec\n",
      "execution time: 5.7220458984375e-05sec\n",
      "execution time: 0.00011491775512695312sec\n",
      "execution time: 0.0001952648162841797sec\n",
      "execution time: 9.5367431640625e-07sec\n",
      "execution time: 1.1920928955078125e-06sec\n",
      "execution time: 9.5367431640625e-07sec\n",
      "execution time: 4.00543212890625e-05sec\n",
      "execution time: 6.580352783203125e-05sec\n",
      "execution time: 9.5367431640625e-07sec\n",
      "execution time: 2.1457672119140625e-06sec\n",
      "execution time: 7.081031799316406e-05sec\n",
      "execution time: 0.0sec\n",
      "execution time: 0.0sec\n",
      "execution time: 0.0sec\n",
      "execution time: 2.5987625122070312e-05sec\n",
      "execution time: 5.1021575927734375e-05sec\n",
      "execution time: 0.000148773193359375sec\n",
      "execution time: 0.00024199485778808594sec\n",
      "execution time: 0.0004601478576660156sec\n",
      "execution time: 0.0012040138244628906sec\n",
      "execution time: 0.001771688461303711sec\n",
      "execution time: 0.0sec\n",
      "execution time: 0.0sec\n",
      "execution time: 0.0sec\n",
      "execution time: 2.6702880859375e-05sec\n",
      "execution time: 7.200241088867188e-05sec\n",
      "execution time: 0.0sec\n",
      "execution time: 9.5367431640625e-07sec\n",
      "execution time: 3.504753112792969e-05sec\n",
      "execution time: 9.5367431640625e-07sec\n",
      "execution time: 9.5367431640625e-07sec\n",
      "execution time: 9.5367431640625e-07sec\n",
      "execution time: 5.0067901611328125e-05sec\n",
      "execution time: 0.00010418891906738281sec\n",
      "execution time: 0.00019025802612304688sec\n",
      "execution time: 0.00030303001403808594sec\n",
      "execution time: 9.5367431640625e-07sec\n",
      "execution time: 9.5367431640625e-07sec\n",
      "execution time: 3.5762786865234375e-05sec\n",
      "execution time: 0.0sec\n",
      "execution time: 0.0sec\n",
      "execution time: 0.0sec\n",
      "execution time: 3.2901763916015625e-05sec\n",
      "execution time: 0.0006108283996582031sec\n",
      "execution time: 0.0007040500640869141sec\n",
      "execution time: 7.152557373046875e-07sec\n",
      "execution time: 9.5367431640625e-07sec\n",
      "execution time: 0.0sec\n",
      "execution time: 4.100799560546875e-05sec\n",
      "execution time: 8.58306884765625e-05sec\n",
      "execution time: 9.5367431640625e-07sec\n",
      "execution time: 9.5367431640625e-07sec\n",
      "execution time: 7.915496826171875e-05sec\n",
      "execution time: 9.5367431640625e-07sec\n",
      "execution time: 9.5367431640625e-07sec\n",
      "execution time: 2.1457672119140625e-06sec\n",
      "execution time: 0.0001068115234375sec\n",
      "execution time: 0.0001800060272216797sec\n",
      "execution time: 0.0003147125244140625sec\n",
      "execution time: 0.00044274330139160156sec\n",
      "execution time: 0.0012149810791015625sec\n",
      "execution time: 0.0016160011291503906sec\n",
      "execution time: 0.0sec\n",
      "execution time: 0.0sec\n",
      "execution time: 3.719329833984375e-05sec\n",
      "execution time: 0.0sec\n",
      "execution time: 9.5367431640625e-07sec\n",
      "execution time: 0.0sec\n",
      "execution time: 3.790855407714844e-05sec\n",
      "execution time: 7.295608520507812e-05sec\n",
      "execution time: 0.00015807151794433594sec\n",
      "execution time: 9.5367431640625e-07sec\n",
      "execution time: 9.5367431640625e-07sec\n",
      "execution time: 0.0sec\n",
      "execution time: 4.029273986816406e-05sec\n",
      "execution time: 8.440017700195312e-05sec\n",
      "execution time: 9.5367431640625e-07sec\n",
      "execution time: 0.0sec\n",
      "execution time: 0.00024580955505371094sec\n",
      "execution time: 0.0sec\n",
      "execution time: 0.0sec\n",
      "execution time: 9.5367431640625e-07sec\n",
      "execution time: 4.100799560546875e-05sec\n",
      "execution time: 7.987022399902344e-05sec\n",
      "execution time: 0.00036907196044921875sec\n",
      "execution time: 0.000492095947265625sec\n",
      "execution time: 0.0006990432739257812sec\n",
      "execution time: 1.1920928955078125e-06sec\n",
      "execution time: 0.0sec\n",
      "execution time: 0.0sec\n",
      "execution time: 4.673004150390625e-05sec\n",
      "execution time: 8.893013000488281e-05sec\n",
      "execution time: 0.0sec\n",
      "execution time: 1.1920928955078125e-06sec\n",
      "execution time: 4.124641418457031e-05sec\n",
      "execution time: 1.1920928955078125e-06sec\n",
      "execution time: 0.0sec\n",
      "execution time: 1.1920928955078125e-06sec\n",
      "execution time: 4.506111145019531e-05sec\n",
      "execution time: 8.702278137207031e-05sec\n",
      "execution time: 0.00016999244689941406sec\n",
      "execution time: 0.0002989768981933594sec\n",
      "execution time: 0.0sec\n",
      "execution time: 9.5367431640625e-07sec\n",
      "execution time: 5.173683166503906e-05sec\n",
      "execution time: 0.0sec\n",
      "execution time: 0.0sec\n",
      "execution time: 9.5367431640625e-07sec\n",
      "execution time: 4.57763671875e-05sec\n",
      "execution time: 8.893013000488281e-05sec\n",
      "execution time: 0.00018358230590820312sec\n",
      "execution time: 0.0sec\n",
      "execution time: 9.5367431640625e-07sec\n",
      "execution time: 9.5367431640625e-07sec\n",
      "execution time: 7.390975952148438e-05sec\n",
      "execution time: 0.00012993812561035156sec\n",
      "execution time: 9.5367431640625e-07sec\n",
      "execution time: 0.0sec\n",
      "execution time: 5.1975250244140625e-05sec\n",
      "execution time: 0.0sec\n",
      "execution time: 9.5367431640625e-07sec\n",
      "execution time: 7.152557373046875e-07sec\n",
      "execution time: 5.3882598876953125e-05sec\n",
      "execution time: 0.000102996826171875sec\n",
      "execution time: 0.000202178955078125sec\n",
      "execution time: 0.0003809928894042969sec\n",
      "execution time: 0.0006117820739746094sec\n",
      "execution time: 0.0009570121765136719sec\n",
      "execution time: 0.0017020702362060547sec\n",
      "execution time: 0.003371000289916992sec\n",
      "execution time: 0.0051839351654052734sec\n"
     ]
    },
    {
     "data": {
      "text/plain": [
       "55"
      ]
     },
     "execution_count": 76,
     "metadata": {},
     "output_type": "execute_result"
    }
   ],
   "source": [
    "fibo_rec(10)"
   ]
  },
  {
   "cell_type": "code",
   "execution_count": 77,
   "metadata": {},
   "outputs": [],
   "source": [
    "def fibo_rec(num):\n",
    "    if num < 2:\n",
    "        return num\n",
    "    else:\n",
    "        return fibo_rec(num-2) + fibo_rec(num-1)"
   ]
  },
  {
   "cell_type": "code",
   "execution_count": 78,
   "metadata": {},
   "outputs": [
    {
     "name": "stdout",
     "output_type": "stream",
     "text": [
      "execution time: 4.100799560546875e-05sec\n"
     ]
    },
    {
     "data": {
      "text/plain": [
       "55"
      ]
     },
     "execution_count": 78,
     "metadata": {},
     "output_type": "execute_result"
    }
   ],
   "source": [
    "time_checker(fibo_rec)(10)"
   ]
  },
  {
   "cell_type": "code",
   "execution_count": null,
   "metadata": {},
   "outputs": [],
   "source": []
  }
 ],
 "metadata": {
  "kernelspec": {
   "display_name": "Python 3",
   "language": "python",
   "name": "python3"
  },
  "language_info": {
   "codemirror_mode": {
    "name": "ipython",
    "version": 3
   },
   "file_extension": ".py",
   "mimetype": "text/x-python",
   "name": "python",
   "nbconvert_exporter": "python",
   "pygments_lexer": "ipython3",
   "version": "3.9.0"
  }
 },
 "nbformat": 4,
 "nbformat_minor": 4
}
