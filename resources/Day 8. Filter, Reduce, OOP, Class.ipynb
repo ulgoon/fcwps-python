{
 "cells": [
  {
   "cell_type": "code",
   "execution_count": null,
   "metadata": {},
   "outputs": [],
   "source": [
    "import random\n",
    "\n",
    "\n",
    "students = [\n",
    "    '이한결', '김성수','김주형', '이상봉',\n",
    "    '최은비', '이찬민', '손희정', '이현기',\n",
    "    '박다예', '김도준', '오지윤', '박찬종',\n",
    "    '박찬경', '김유량', '정철현', '이영민',\n",
    "]\n",
    "\n",
    "for i in range(3):\n",
    "    random.shuffle(students)\n",
    "    print('{}th shuffle complete.(sample={})'.format(i, students[7]))\n",
    "\n",
    "for index, student in enumerate(students):\n",
    "    print('문제 {}: {}'.format(index,student))\n",
    "    if index==2:\n",
    "        break"
   ]
  },
  {
   "cell_type": "markdown",
   "metadata": {},
   "source": [
    "### 문제 1\n",
    "\n",
    "./seongnam-population.csv 를 ./seongnam-population.json으로 변환하시오"
   ]
  },
  {
   "cell_type": "code",
   "execution_count": 136,
   "metadata": {},
   "outputs": [
    {
     "data": {
      "text/plain": [
       "[['구별',\n",
       "  '동',\n",
       "  '인구수_계',\n",
       "  '인구수_남',\n",
       "  '인구수_여',\n",
       "  '19세 이상_계',\n",
       "  '19세 이상_남',\n",
       "  '19세 이상_여',\n",
       "  '65세 이상_계',\n",
       "  '65세 이상_남자',\n",
       "  '65세 이상_여자',\n",
       "  '세대수',\n",
       "  '재외국민'],\n",
       " ['수정구',\n",
       "  '신흥1동         ',\n",
       "  '13511',\n",
       "  '7107',\n",
       "  '6404',\n",
       "  '12381',\n",
       "  '6519',\n",
       "  '5862',\n",
       "  '2567',\n",
       "  '1073',\n",
       "  '1494',\n",
       "  '7898',\n",
       "  '9'],\n",
       " ['수정구',\n",
       "  '신흥2동         ',\n",
       "  '20239',\n",
       "  '9911',\n",
       "  '10328',\n",
       "  '17042',\n",
       "  '8328',\n",
       "  '8714',\n",
       "  '2686',\n",
       "  '1277',\n",
       "  '1409',\n",
       "  '7693',\n",
       "  '22'],\n",
       " ['수정구',\n",
       "  '신흥3동         ',\n",
       "  '11309',\n",
       "  '5893',\n",
       "  '5416',\n",
       "  '10318',\n",
       "  '5377',\n",
       "  '4941',\n",
       "  '2020',\n",
       "  '878',\n",
       "  '1142',\n",
       "  '6450',\n",
       "  '9']]"
      ]
     },
     "execution_count": 136,
     "metadata": {},
     "output_type": "execute_result"
    }
   ],
   "source": [
    "import csv\n",
    "import json\n",
    "\n",
    "with open('./seongnam-population.csv', 'r', encoding = 'EUC-KR') as f:\n",
    "    csved = csv.reader(f)\n",
    "    population_list = [row for row in csved]\n",
    "population_list[:4]"
   ]
  },
  {
   "cell_type": "code",
   "execution_count": null,
   "metadata": {
    "scrolled": true
   },
   "outputs": [],
   "source": [
    "population = {'users': []}\n",
    "for row in population_list[1:]:\n",
    "    users_dict = {}\n",
    "    for index, value in enumerate(population_list[0]):\n",
    "        users_dict[value] = row[index]\n",
    "\n",
    "    population['users'].append(users_dict)\n",
    "population"
   ]
  },
  {
   "cell_type": "code",
   "execution_count": 23,
   "metadata": {},
   "outputs": [],
   "source": [
    "data = population\n",
    "with open('coverter.json', 'w', encoding = 'EUC-KR') as f:\n",
    "    json.dump(data, f)"
   ]
  },
  {
   "cell_type": "code",
   "execution_count": 36,
   "metadata": {
    "scrolled": false
   },
   "outputs": [],
   "source": [
    "import csv\n",
    "import json\n",
    "\n",
    "\n",
    "with open('./seongnam-population.csv', 'r', encoding='EUC-KR') as f:\n",
    "    data = csv.reader(f)\n",
    "    dong_list = [row for row in data]\n",
    "\n",
    "sn_dict={'dongs':[]}\n",
    "for row in dong_list[1:]:\n",
    "    dong_dict = {}\n",
    "    for index, key in enumerate(dong_list[0]):\n",
    "        dong_dict[key] = row[index]\n",
    "    sn_dict['dongs'].append(dong_dict)\n",
    "\n",
    "with open('./population.json', 'w') as g:\n",
    "    json.dump(sn_dict, g, ensure_ascii=False)"
   ]
  },
  {
   "cell_type": "markdown",
   "metadata": {},
   "source": [
    "Hackerrank #1: https://www.hackerrank.com/challenges/validating-named-email-addresses/problem\n",
    "\n",
    "```python\n",
    "# Enter your code here. Read input from STDIN. Print output to STDOUT\n",
    "import email.utils, re\n",
    "# print email.utils.parseaddr('DOSHI <DOSHI@hackerrank.com>')\n",
    "# print email.utils.formataddr(('DOSHI', 'DOSHI@hackerrank.com'))\n",
    "\n",
    "n = int(input())\n",
    "for _ in range(n):\n",
    "    u_name, u_email = email.utils.parseaddr(input())\n",
    "    u_email_filter = re.fullmatch(r'[a-z]+(\\w|\\-|\\.)+\\@[a-z]+\\.[a-z]{1,3}', u_email,flags=re.I)\n",
    "\n",
    "    if u_email_filter != None:\n",
    "        print(email.utils.formataddr((u_name, u_email_filter.group())))\n",
    "```"
   ]
  },
  {
   "cell_type": "markdown",
   "metadata": {},
   "source": [
    "Hackerrank #2: https://www.hackerrank.com/challenges/validating-the-phone-number/problem\n",
    "\n",
    "```python\n",
    "import re\n",
    "\n",
    "\n",
    "n = int(input())\n",
    "phonenum_pattern = re.compile(r'[7-9][0-9]{9}')\n",
    "for _ in range(n):\n",
    "    phonenum_string = input()\n",
    "    \n",
    "    result = phonenum_pattern.fullmatch(phonenum_string)\n",
    "    if result:\n",
    "        print('YES')\n",
    "    else:\n",
    "        print('NO')\n",
    "```"
   ]
  },
  {
   "cell_type": "markdown",
   "metadata": {},
   "source": [
    "## Filter"
   ]
  },
  {
   "cell_type": "code",
   "execution_count": 40,
   "metadata": {},
   "outputs": [
    {
     "data": {
      "text/plain": [
       "<map at 0x114332220>"
      ]
     },
     "execution_count": 40,
     "metadata": {},
     "output_type": "execute_result"
    }
   ],
   "source": [
    "a = map(len, ['1','22','333'])\n",
    "a"
   ]
  },
  {
   "cell_type": "code",
   "execution_count": 43,
   "metadata": {},
   "outputs": [
    {
     "data": {
      "text/plain": [
       "3"
      ]
     },
     "execution_count": 43,
     "metadata": {},
     "output_type": "execute_result"
    }
   ],
   "source": [
    "next(a)"
   ]
  },
  {
   "cell_type": "code",
   "execution_count": 45,
   "metadata": {},
   "outputs": [
    {
     "data": {
      "text/plain": [
       "[2, 4, 6, 8, 10]"
      ]
     },
     "execution_count": 45,
     "metadata": {},
     "output_type": "execute_result"
    }
   ],
   "source": [
    "list(range(2,10+1,2))"
   ]
  },
  {
   "cell_type": "code",
   "execution_count": 46,
   "metadata": {},
   "outputs": [
    {
     "data": {
      "text/plain": [
       "[2, 4, 6, 8, 10]"
      ]
     },
     "execution_count": 46,
     "metadata": {},
     "output_type": "execute_result"
    }
   ],
   "source": [
    "[i*2 for i in range(1,5+1)]"
   ]
  },
  {
   "cell_type": "code",
   "execution_count": 47,
   "metadata": {},
   "outputs": [
    {
     "data": {
      "text/plain": [
       "[2, 4, 6, 8, 10]"
      ]
     },
     "execution_count": 47,
     "metadata": {},
     "output_type": "execute_result"
    }
   ],
   "source": [
    "[i for i in range(1,10+1) if i%2==0]"
   ]
  },
  {
   "cell_type": "code",
   "execution_count": 48,
   "metadata": {},
   "outputs": [],
   "source": [
    "def even_selector(x):\n",
    "    if x%2==0:\n",
    "        return True\n",
    "    else:\n",
    "        return False"
   ]
  },
  {
   "cell_type": "code",
   "execution_count": 50,
   "metadata": {},
   "outputs": [
    {
     "data": {
      "text/plain": [
       "[2, 4, 6, 8, 10]"
      ]
     },
     "execution_count": 50,
     "metadata": {},
     "output_type": "execute_result"
    }
   ],
   "source": [
    "list(filter(even_selector, range(1,10+1)))"
   ]
  },
  {
   "cell_type": "code",
   "execution_count": 58,
   "metadata": {},
   "outputs": [
    {
     "data": {
      "text/plain": [
       "[2, 4, 6, 8, 10]"
      ]
     },
     "execution_count": 58,
     "metadata": {},
     "output_type": "execute_result"
    }
   ],
   "source": [
    "list(filter(lambda a:a%2==0, range(1,10+1)))"
   ]
  },
  {
   "cell_type": "code",
   "execution_count": 54,
   "metadata": {},
   "outputs": [
    {
     "data": {
      "text/plain": [
       "False"
      ]
     },
     "execution_count": 54,
     "metadata": {},
     "output_type": "execute_result"
    }
   ],
   "source": [
    "isinstance('1', float)"
   ]
  },
  {
   "cell_type": "code",
   "execution_count": 65,
   "metadata": {},
   "outputs": [],
   "source": [
    "some_list = [\n",
    "    1, 3.14, 2.71828, 'tau', 'lambda', [1,0,0,1], {'kay':'bamboo'},\n",
    "]"
   ]
  },
  {
   "cell_type": "code",
   "execution_count": 67,
   "metadata": {},
   "outputs": [
    {
     "data": {
      "text/plain": [
       "[3.14, 2.71828]"
      ]
     },
     "execution_count": 67,
     "metadata": {},
     "output_type": "execute_result"
    }
   ],
   "source": [
    "list(filter(lambda a:isinstance(a, float), some_list))"
   ]
  },
  {
   "cell_type": "code",
   "execution_count": 63,
   "metadata": {},
   "outputs": [
    {
     "data": {
      "text/plain": [
       "False"
      ]
     },
     "execution_count": 63,
     "metadata": {},
     "output_type": "execute_result"
    }
   ],
   "source": [
    "(lambda a:isinstance(a, float))(3)"
   ]
  },
  {
   "cell_type": "code",
   "execution_count": 61,
   "metadata": {},
   "outputs": [
    {
     "data": {
      "text/plain": [
       "12"
      ]
     },
     "execution_count": 61,
     "metadata": {},
     "output_type": "execute_result"
    }
   ],
   "source": [
    "lambda a:a+2"
   ]
  },
  {
   "cell_type": "code",
   "execution_count": 68,
   "metadata": {},
   "outputs": [
    {
     "data": {
      "text/plain": [
       "5050"
      ]
     },
     "execution_count": 68,
     "metadata": {},
     "output_type": "execute_result"
    }
   ],
   "source": [
    "result = 0\n",
    "for i in range(1,100+1):\n",
    "    result += i # result = result + i\n",
    "    \n",
    "result"
   ]
  },
  {
   "cell_type": "code",
   "execution_count": 70,
   "metadata": {},
   "outputs": [
    {
     "data": {
      "text/plain": [
       "5050"
      ]
     },
     "execution_count": 70,
     "metadata": {},
     "output_type": "execute_result"
    }
   ],
   "source": [
    "int((lambda n:n*(n+1)/2)(100))"
   ]
  },
  {
   "cell_type": "code",
   "execution_count": 73,
   "metadata": {},
   "outputs": [
    {
     "data": {
      "text/plain": [
       "5050"
      ]
     },
     "execution_count": 73,
     "metadata": {},
     "output_type": "execute_result"
    }
   ],
   "source": [
    "from functools import reduce\n",
    "\n",
    "\n",
    "# reduce(function, iter)\n",
    "def accumulator(x,y):\n",
    "    return x+y\n",
    "\n",
    "reduce(accumulator, range(1,100+1))"
   ]
  },
  {
   "cell_type": "code",
   "execution_count": 77,
   "metadata": {},
   "outputs": [
    {
     "data": {
      "text/plain": [
       "5050"
      ]
     },
     "execution_count": 77,
     "metadata": {},
     "output_type": "execute_result"
    }
   ],
   "source": [
    "reduce(lambda a,b:a+b, range(1,100+1))"
   ]
  },
  {
   "cell_type": "code",
   "execution_count": 80,
   "metadata": {},
   "outputs": [
    {
     "data": {
      "text/plain": [
       "5150"
      ]
     },
     "execution_count": 80,
     "metadata": {},
     "output_type": "execute_result"
    }
   ],
   "source": [
    "reduce(lambda a,b:a+b, range(1,100+1), 100)"
   ]
  },
  {
   "cell_type": "markdown",
   "metadata": {},
   "source": [
    "## Do it with your classmate\n",
    "\n",
    "```python\n",
    "recycle_bin = [\n",
    "1, 2, \"Fastcampus\", ['dog', 'cat', 'pig'], 5, 4, 5.6, False\n",
    "\"패스트캠퍼스\", 100, 3.14, 2.71828, {'name':'Kim'}, True,\n",
    "]\n",
    "```\n",
    "\n",
    "1. 위 리스트의 요소 중 정수와 실수인 요소만 리스트로 구성하기\n",
    "\n",
    "2. 위 리스트의 요소 중 정수만 각각 제곱하여 리스트로 구성하기\n",
    "\n",
    "3. 위 리스트의 요소 중 정수만 각각 제곱한 수들의 합계 출력하기\n",
    "\n",
    "> Hint: isinstance(1, int)"
   ]
  },
  {
   "cell_type": "code",
   "execution_count": 87,
   "metadata": {},
   "outputs": [],
   "source": [
    "recycle_bin = [\n",
    "1, 2, \"Fastcampus\", ['dog', 'cat', 'pig'], 5, 4, 5.6, False,\n",
    "\"패스트캠퍼스\", 100, 3.14, 2.71828, {'name':'Kim'}, True,\n",
    "]"
   ]
  },
  {
   "cell_type": "code",
   "execution_count": 94,
   "metadata": {},
   "outputs": [
    {
     "data": {
      "text/plain": [
       "[1, 2, 5, 4, 5.6, 100, 3.14, 2.71828]"
      ]
     },
     "execution_count": 94,
     "metadata": {},
     "output_type": "execute_result"
    }
   ],
   "source": [
    "#1.\n",
    "list(filter(lambda b:not isinstance(b, bool),\n",
    "    filter(lambda a:isinstance(a,(int, float)), recycle_bin))\n",
    ")"
   ]
  },
  {
   "cell_type": "code",
   "execution_count": 97,
   "metadata": {},
   "outputs": [
    {
     "data": {
      "text/plain": [
       "[1, 4, 25, 16, 10000]"
      ]
     },
     "execution_count": 97,
     "metadata": {},
     "output_type": "execute_result"
    }
   ],
   "source": [
    "#2.\n",
    "list(map(lambda x:x**2, \n",
    "    filter(lambda b:not isinstance(b, bool),\n",
    "        filter(lambda a:isinstance(a,int), recycle_bin)\n",
    ")))"
   ]
  },
  {
   "cell_type": "code",
   "execution_count": 99,
   "metadata": {},
   "outputs": [
    {
     "data": {
      "text/plain": [
       "10046"
      ]
     },
     "execution_count": 99,
     "metadata": {},
     "output_type": "execute_result"
    }
   ],
   "source": [
    "#3.\n",
    "reduce(lambda x,y:x+y,\n",
    "    map(lambda x:x**2, \n",
    "        filter(lambda b:not isinstance(b, bool),\n",
    "            filter(lambda a:isinstance(a,int), recycle_bin)\n",
    ")))"
   ]
  },
  {
   "cell_type": "code",
   "execution_count": 85,
   "metadata": {},
   "outputs": [
    {
     "data": {
      "text/plain": [
       "True"
      ]
     },
     "execution_count": 85,
     "metadata": {},
     "output_type": "execute_result"
    }
   ],
   "source": [
    "isinstance(3.14,(int, float))"
   ]
  },
  {
   "cell_type": "code",
   "execution_count": 82,
   "metadata": {},
   "outputs": [
    {
     "data": {
      "text/plain": [
       "()"
      ]
     },
     "execution_count": 82,
     "metadata": {},
     "output_type": "execute_result"
    }
   ],
   "source": [
    "def isinstances(a):\n",
    "    if isinstance(a,int) or isinstance(a,float):\n",
    "        return True\n",
    "    return False"
   ]
  },
  {
   "cell_type": "code",
   "execution_count": 101,
   "metadata": {},
   "outputs": [],
   "source": [
    "## Scope\n",
    "\n",
    "def outer_scope():\n",
    "    def inner_local():\n",
    "        msg=\"Fast\"\n",
    "        \n",
    "    def inner_nonlocal():\n",
    "        nonlocal msg\n",
    "        msg=\"Campus\"\n",
    "        \n",
    "    def inner_global():\n",
    "        global msg\n",
    "        msg=\"FastCampus\"\n",
    "\n",
    "    msg = \"Seong-Su\"\n",
    "    inner_local()\n",
    "    print('inner local:', msg)\n",
    "    inner_nonlocal()\n",
    "    print('inner nonlocal:', msg)\n",
    "    inner_global()\n",
    "    print('inner global:', msg)"
   ]
  },
  {
   "cell_type": "code",
   "execution_count": 102,
   "metadata": {},
   "outputs": [
    {
     "name": "stdout",
     "output_type": "stream",
     "text": [
      "inner local: Seong-Su\n",
      "inner nonlocal: Campus\n",
      "inner global: Campus\n"
     ]
    }
   ],
   "source": [
    "outer_scope()"
   ]
  },
  {
   "cell_type": "code",
   "execution_count": 103,
   "metadata": {},
   "outputs": [
    {
     "data": {
      "text/plain": [
       "'FastCampus'"
      ]
     },
     "execution_count": 103,
     "metadata": {},
     "output_type": "execute_result"
    }
   ],
   "source": [
    "msg"
   ]
  },
  {
   "cell_type": "markdown",
   "metadata": {},
   "source": [
    "## Class"
   ]
  },
  {
   "cell_type": "code",
   "execution_count": 104,
   "metadata": {},
   "outputs": [],
   "source": [
    "class ClassName: #CamelCase\n",
    "    pass # Statements\n",
    "    #hello_world: snake_case"
   ]
  },
  {
   "cell_type": "code",
   "execution_count": 105,
   "metadata": {},
   "outputs": [],
   "source": [
    "class Hero:\n",
    "    pass"
   ]
  },
  {
   "cell_type": "code",
   "execution_count": 107,
   "metadata": {},
   "outputs": [],
   "source": [
    "IronMan = Hero()\n",
    "CaptainAmerica = Hero()\n",
    "Thor = Hero()\n",
    "Hulk = Hero()"
   ]
  },
  {
   "cell_type": "code",
   "execution_count": 108,
   "metadata": {},
   "outputs": [
    {
     "ename": "AttributeError",
     "evalue": "'Hero' object has no attribute 'fly'",
     "output_type": "error",
     "traceback": [
      "\u001b[0;31m---------------------------------------------------------------------------\u001b[0m",
      "\u001b[0;31mAttributeError\u001b[0m                            Traceback (most recent call last)",
      "\u001b[0;32m<ipython-input-108-08ee92d5742f>\u001b[0m in \u001b[0;36m<module>\u001b[0;34m\u001b[0m\n\u001b[0;32m----> 1\u001b[0;31m \u001b[0mIronMan\u001b[0m\u001b[0;34m.\u001b[0m\u001b[0mfly\u001b[0m\u001b[0;34m(\u001b[0m\u001b[0;34m)\u001b[0m\u001b[0;34m\u001b[0m\u001b[0;34m\u001b[0m\u001b[0m\n\u001b[0m",
      "\u001b[0;31mAttributeError\u001b[0m: 'Hero' object has no attribute 'fly'"
     ]
    }
   ],
   "source": [
    "IronMan.fly()"
   ]
  },
  {
   "cell_type": "code",
   "execution_count": 121,
   "metadata": {},
   "outputs": [],
   "source": [
    "class Hero:\n",
    "    hp = 100 # class variable\n",
    "    \n",
    "    def __init__(self, name, weapon):\n",
    "        self.name = name # instance variable\n",
    "        self.weapon = weapon\n",
    "        \n",
    "    def attack(self):\n",
    "        print('attack with {}'.format(self.weapon))\n",
    "    def get_damaged(self):\n",
    "        pass"
   ]
  },
  {
   "cell_type": "code",
   "execution_count": 122,
   "metadata": {},
   "outputs": [],
   "source": [
    "IronMan = Hero('Iron Man', 'Suit')"
   ]
  },
  {
   "cell_type": "code",
   "execution_count": 123,
   "metadata": {},
   "outputs": [
    {
     "data": {
      "text/plain": [
       "'Iron Man'"
      ]
     },
     "execution_count": 123,
     "metadata": {},
     "output_type": "execute_result"
    }
   ],
   "source": [
    "IronMan.name"
   ]
  },
  {
   "cell_type": "code",
   "execution_count": 124,
   "metadata": {},
   "outputs": [
    {
     "data": {
      "text/plain": [
       "'Suit'"
      ]
     },
     "execution_count": 124,
     "metadata": {},
     "output_type": "execute_result"
    }
   ],
   "source": [
    "IronMan.weapon"
   ]
  },
  {
   "cell_type": "code",
   "execution_count": 125,
   "metadata": {},
   "outputs": [
    {
     "data": {
      "text/plain": [
       "100"
      ]
     },
     "execution_count": 125,
     "metadata": {},
     "output_type": "execute_result"
    }
   ],
   "source": [
    "IronMan.hp"
   ]
  },
  {
   "cell_type": "code",
   "execution_count": 126,
   "metadata": {},
   "outputs": [
    {
     "name": "stdout",
     "output_type": "stream",
     "text": [
      "attack with Suit\n"
     ]
    }
   ],
   "source": [
    "IronMan.attack()"
   ]
  },
  {
   "cell_type": "code",
   "execution_count": 128,
   "metadata": {},
   "outputs": [],
   "source": [
    "class LetsSeeAttributes:\n",
    "    \"\"\"\n",
    "    This is docstring\n",
    "    \"\"\"\n",
    "    integer = 1024\n",
    "    def function():\n",
    "        return 'fastcampus'"
   ]
  },
  {
   "cell_type": "code",
   "execution_count": 129,
   "metadata": {},
   "outputs": [],
   "source": [
    "fast = LetsSeeAttributes()"
   ]
  },
  {
   "cell_type": "code",
   "execution_count": 131,
   "metadata": {},
   "outputs": [
    {
     "data": {
      "text/plain": [
       "1024"
      ]
     },
     "execution_count": 131,
     "metadata": {},
     "output_type": "execute_result"
    }
   ],
   "source": [
    "fast.integer"
   ]
  },
  {
   "cell_type": "code",
   "execution_count": 132,
   "metadata": {},
   "outputs": [],
   "source": [
    "fast.integer = 2048"
   ]
  },
  {
   "cell_type": "code",
   "execution_count": 133,
   "metadata": {},
   "outputs": [
    {
     "data": {
      "text/plain": [
       "2048"
      ]
     },
     "execution_count": 133,
     "metadata": {},
     "output_type": "execute_result"
    }
   ],
   "source": [
    "fast.integer"
   ]
  },
  {
   "cell_type": "code",
   "execution_count": 134,
   "metadata": {},
   "outputs": [],
   "source": [
    "campus = LetsSeeAttributes()"
   ]
  },
  {
   "cell_type": "code",
   "execution_count": 135,
   "metadata": {},
   "outputs": [
    {
     "data": {
      "text/plain": [
       "1024"
      ]
     },
     "execution_count": 135,
     "metadata": {},
     "output_type": "execute_result"
    }
   ],
   "source": [
    "campus.integer"
   ]
  },
  {
   "cell_type": "markdown",
   "metadata": {},
   "source": [
    "## Hackerrank\n",
    "\n",
    "https://www.hackerrank.com/challenges/30-class-vs-instance/problem"
   ]
  },
  {
   "cell_type": "code",
   "execution_count": null,
   "metadata": {},
   "outputs": [],
   "source": []
  }
 ],
 "metadata": {
  "kernelspec": {
   "display_name": "Python 3",
   "language": "python",
   "name": "python3"
  },
  "language_info": {
   "codemirror_mode": {
    "name": "ipython",
    "version": 3
   },
   "file_extension": ".py",
   "mimetype": "text/x-python",
   "name": "python",
   "nbconvert_exporter": "python",
   "pygments_lexer": "ipython3",
   "version": "3.9.0"
  }
 },
 "nbformat": 4,
 "nbformat_minor": 4
}
